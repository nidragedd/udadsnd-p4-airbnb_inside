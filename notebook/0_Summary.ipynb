{
 "cells": [
  {
   "cell_type": "markdown",
   "metadata": {},
   "source": [
    "# Table of Contents\n",
    "\n",
    "ToC (**TODO**)\n",
    "\n",
    "## Global overview\n",
    "This project is only for educational purposes. I did it while I was following the `Udacity DataScience nanodegree`.  \n",
    "Within the course, in order to develop our communication skills as DataScientist, we are asked to pick a dataset available on the Internet. There are suggestions but we can take any dataset as soon as we explore it and follow the CRISP-DM process:\n",
    "![CRIP-DM process](../assets/CRISP-DM.png)\n",
    "\n",
    "There are 2 main objectives to reach in this project:\n",
    "* create a Github code repository to share code, scripts, notebooks and documentation about data wrangling/modeling techniques, with a technical audience in mind\n",
    "* write a blog post accessible to non-technical people in order to share our questions, insights, findings, thoughts and conclusions.\n",
    "\n",
    "I chose to use datasets from airbnb and, as a french people, I chose Paris as the city to analyze.\n",
    "\n",
    "\n",
    "## Setup environment\n",
    "### Install dependencies\n",
    "Before going further, please ensure that you have installed all required dependencies. This can easily be done through **[conda](https://docs.conda.io/en/latest/)**\n",
    "and the given `environment.yml` file  by running this command in a terminal (if you have conda, obviously):\n",
    "```\n",
    "conda env create -f environment.yml\n",
    "```\n",
    "\n",
    "If you do not have/want to use conda for any reason, you can still setup your environment by running some `pip install` commands.  \n",
    "This project requires **Python 3.7** and the following Python libraries installed:\n",
    "- [NumPy](http://www.numpy.org/) (I used 1.16.4)\n",
    "- [Pandas](http://pandas.pydata.org) (I used 0.24.2)\n",
    "- [matplotlib](http://matplotlib.org/) (I used 3.1.0)\n",
    "- [iPython Notebook](http://ipython.org/notebook.html) to run the notebook\n",
    "seaborn\n",
    "sklearn\n",
    "gensim\n",
    "spacy\n",
    "\n",
    "**TODO: terminer cette partie une fois tout terminé**\n",
    "\n",
    "### Get the data\n",
    "Run the cell below to download the data (be careful, depending on your network connection, this may take a while to run).  \n",
    "The script will:\n",
    "* create the `data` directory (be careful it will empty it if it already exists !)\n",
    "* collect 5 datasets from insideairbnb website"
   ]
  },
  {
   "cell_type": "code",
   "execution_count": 1,
   "metadata": {},
   "outputs": [
    {
     "name": "stdout",
     "output_type": "stream",
     "text": [
      "Download started for file http://data.insideairbnb.com/france/ile-de-france/paris/2019-07-09/data/listings.csv.gz\n",
      "Download finished for file http://data.insideairbnb.com/france/ile-de-france/paris/2019-07-09/data/listings.csv.gz\n",
      "Download started for file http://data.insideairbnb.com/france/ile-de-france/paris/2019-07-09/visualisations/listings.csv\n",
      "Download finished for file http://data.insideairbnb.com/france/ile-de-france/paris/2019-07-09/visualisations/listings.csv\n",
      "Download started for file http://data.insideairbnb.com/france/ile-de-france/paris/2019-07-09/data/calendar.csv.gz\n",
      "Download finished for file http://data.insideairbnb.com/france/ile-de-france/paris/2019-07-09/data/calendar.csv.gz\n",
      "Download started for file http://data.insideairbnb.com/france/ile-de-france/paris/2019-07-09/data/reviews.csv.gz\n",
      "Download finished for file http://data.insideairbnb.com/france/ile-de-france/paris/2019-07-09/data/reviews.csv.gz\n",
      "Download started for file http://data.insideairbnb.com/france/ile-de-france/paris/2019-07-09/visualisations/neighbourhoods.csv\n",
      "Download finished for file http://data.insideairbnb.com/france/ile-de-france/paris/2019-07-09/visualisations/neighbourhoods.csv\n"
     ]
    }
   ],
   "source": [
    "import sys\n",
    "sys.path.append('../') \n",
    "\n",
    "from src.utils import datacollector\n",
    "\n",
    "datacollector.collect_data()"
   ]
  },
  {
   "cell_type": "markdown",
   "metadata": {},
   "source": [
    "As you can see, the data are from **July 2019** (but if you want, you can download archives data from the website).  \n",
    "According to the insideairbnb website, the data contains those informations:  \n",
    "\n",
    "| File name          | File description                                                                |\n",
    "|--------------------|---------------------------------------------------------------------------------|\n",
    "| calendar.csv.gz    | Detailed Calendar Data for listings in Paris                                    |\n",
    "| reviews.csv.gz     | Detailed Review Data for listings in Paris                                      |\n",
    "| listings.csv.gz    | Detailed Listings data for Paris                                                |\n",
    "| listings.csv       | Summary information and metrics for listings in Paris (good for visualisations) |\n",
    "| neighbourhoods.csv | Neighbourhood list for geo filter. Sourced from city or open source GIS files   |\n",
    "\n",
    "---\n",
    "\n",
    "Now that we have both data and an environment up & running, let's start by exploring those files in a initial EDA section. (**TODO**: mettre lien vers notebook EDA)"
   ]
  }
 ],
 "metadata": {
  "kernelspec": {
   "display_name": "Python [conda env:udadsnd-p4] *",
   "language": "python",
   "name": "conda-env-udadsnd-p4-py"
  },
  "language_info": {
   "codemirror_mode": {
    "name": "ipython",
    "version": 3
   },
   "file_extension": ".py",
   "mimetype": "text/x-python",
   "name": "python",
   "nbconvert_exporter": "python",
   "pygments_lexer": "ipython3",
   "version": "3.7.3"
  }
 },
 "nbformat": 4,
 "nbformat_minor": 2
}
