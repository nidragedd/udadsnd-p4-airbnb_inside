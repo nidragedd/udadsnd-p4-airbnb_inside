{
 "cells": [
  {
   "cell_type": "code",
   "execution_count": 155,
   "metadata": {},
   "outputs": [],
   "source": [
    "# Load the \"autoreload\" extension so that code can change\n",
    "# Always reload modules so that as soon as code changes in src, it gets automatically reloaded without kernel relaunch\n",
    "%load_ext autoreload\n",
    "%autoreload 2\n",
    "\n",
    "import pandas as pd\n",
    "import numpy as np\n",
    "\n",
    "import sys\n",
    "sys.path.append('../') \n",
    "\n",
    "from src.utils import datacollector\n",
    "from src.utils import constants as cst\n",
    "\n",
    "from src.visualization import visualization as viz\n",
    "from src.visualization import query as q\n",
    "from src.preprocessing import cleaning\n",
    "\n",
    "from sklearn.model_selection import train_test_split\n",
    "\n",
    "import seaborn as sns\n",
    "import matplotlib.pyplot as plt\n",
    "\n",
    "%matplotlib inline"
   ]
  },
  {
   "cell_type": "markdown",
   "metadata": {},
   "source": [
    "# REMINDER - OBJECTIVE\n",
    "As a reminder, **our objective for modeling will be to be able to predict the price for a given listing**.  \n",
    "We have seen that the price can be rather different depending on the period of the year. Of course, it can varies due to some other features, each one with its own importance. We have observed for example that the neighbourhood is one of them.  \n",
    "To build something which will more reflect what happens in real life, I should merge the `listings.csv.gz` dataset with the `calendar.csv.gz` one but it will give me a too huge dataset with more than 20 millions of rows and hundred of features.  \n",
    "**For computation reasons and as the goal of this project is more to validate an approach than building the perfectly perfect model, I choose to keep only the `listings.csv.gz` dataset and its 64K rows and my goal will be to try to predict the mean price for each element of the listing**.\n",
    "\n",
    "In next sections below you will find all preliminary steps that are mandatory before starting the modeling phase.  \n",
    "This will be based on what we have discovered during the [Data Understanding](1_Data_Understanding.ipynb) phase (see the 'summary' part for a reminder).\n",
    "\n",
    "# 1. Load dataset & drop unnecessary features\n",
    "The easiest thing to start with."
   ]
  },
  {
   "cell_type": "code",
   "execution_count": 115,
   "metadata": {},
   "outputs": [],
   "source": [
    "df_lst_full = pd.read_csv(datacollector.get_data_file(cst.LISTING_FULL_FILE), sep=',', header=0, low_memory=False)"
   ]
  },
  {
   "cell_type": "code",
   "execution_count": 116,
   "metadata": {},
   "outputs": [
    {
     "name": "stdout",
     "output_type": "stream",
     "text": [
      "After column dropping, new shape is now (64293, 50)\n"
     ]
    }
   ],
   "source": [
    "cols_to_drop = ['id', 'listing_url', 'scrape_id', 'last_scraped', 'experiences_offered', 'notes', 'transit', 'interaction', \n",
    "                'house_rules', 'thumbnail_url', 'medium_url', 'picture_url', 'xl_picture_url', 'host_id', 'host_name', \n",
    "                'host_about', 'host_response_time', 'host_response_rate', 'host_acceptance_rate', 'host_since', \n",
    "                'host_location', 'host_neighbourhood', 'host_listings_count', 'host_total_listings_count', \n",
    "                'host_verifications', 'host_url', 'host_thumbnail_url', 'host_picture_url', 'host_has_profile_pic', \n",
    "                'calculated_host_listings_count', 'calculated_host_listings_count_entire_homes', \n",
    "                'calculated_host_listings_count_private_rooms', 'calculated_host_listings_count_shared_rooms', 'street', \n",
    "                'neighbourhood', 'neighbourhood_group_cleansed', 'city', 'state', 'zipcode', 'market', 'smart_location', \n",
    "                'country_code', 'country', 'latitude', 'longitude', 'property_type', 'square_feet', 'has_availability', \n",
    "                'calendar_updated', 'calendar_last_scraped', 'first_review', 'last_review', 'requires_license', \n",
    "                'is_business_travel_ready', 'require_guest_profile_picture', 'require_guest_phone_verification']\n",
    "df_lst_reduced = cleaning.drop_cols(df_lst_full, cols_to_drop)"
   ]
  },
  {
   "cell_type": "markdown",
   "metadata": {},
   "source": [
    "# 2. Features transformation\n",
    "## 2.1. Text extraction or drop ?\n",
    "I said in [Data Understanding](1_Data_Understanding.ipynb) conclusion that depending on the use case, perhaps we could try to extract some keywords from `name`, `summary`, `space`, `description`, `neighborhood_overview`, `access`.  \n",
    "Idea is good and could be addressed with NLP packages, maint thing is those features contains text which is sometimes in french sometimes in english. That would add a non negligible amount of data so, for the moment, I propose to start with a simple approach and just drop those features."
   ]
  },
  {
   "cell_type": "code",
   "execution_count": 117,
   "metadata": {},
   "outputs": [
    {
     "name": "stdout",
     "output_type": "stream",
     "text": [
      "After column dropping, new shape is now (64293, 44)\n"
     ]
    }
   ],
   "source": [
    "txt_cols_to_drop = ['name', 'summary', 'space', 'description', 'neighborhood_overview', 'access']\n",
    "df_lst_reduced_notxt = cleaning.drop_cols(df_lst_reduced, txt_cols_to_drop)"
   ]
  },
  {
   "cell_type": "markdown",
   "metadata": {},
   "source": [
    "## 2.2. From 't'/'f' to binary 0/1\n",
    "Here we will deal with columns that contains the now famous \"t/f\" categorical nominal values."
   ]
  },
  {
   "cell_type": "code",
   "execution_count": 118,
   "metadata": {},
   "outputs": [
    {
     "name": "stdout",
     "output_type": "stream",
     "text": [
      "After transformation shape is still (64293, 44)\n"
     ]
    }
   ],
   "source": [
    "tf_cols = ['host_is_superhost', 'host_identity_verified', 'is_location_exact', 'instant_bookable']\n",
    "\n",
    "# Keep track of values before transformation so that we can check after that everything went as expected\n",
    "check_dict = {}\n",
    "\n",
    "# Transform each column and control\n",
    "for feat in tf_cols:\n",
    "    check_dict[feat] = df_lst_reduced_notxt[df_lst_reduced_notxt[feat] == 't'][feat].count()\n",
    "    df_lst_reduced_notxt = cleaning.transform_t_f(df_lst_reduced_notxt, feat)\n",
    "    \n",
    "    assert check_dict[feat] == df_lst_reduced_notxt[feat].sum()\n",
    "print(\"After transformation shape is still {}\".format(df_lst_reduced_notxt.shape))"
   ]
  },
  {
   "cell_type": "markdown",
   "metadata": {},
   "source": [
    "**Note:** the transformation for those features is not totally finished, **we will still have to handle missing values for some of them:**"
   ]
  },
  {
   "cell_type": "code",
   "execution_count": 119,
   "metadata": {},
   "outputs": [
    {
     "name": "stdout",
     "output_type": "stream",
     "text": [
      "Nb missing values for feature 'host_is_superhost' is 64\n",
      "Nb missing values for feature 'host_identity_verified' is 64\n",
      "Nb missing values for feature 'is_location_exact' is 0\n",
      "Nb missing values for feature 'instant_bookable' is 0\n"
     ]
    }
   ],
   "source": [
    "for feat in tf_cols:\n",
    "    print(\"Nb missing values for feature '{}' is {}\".format(feat, df_lst_reduced_notxt[feat].isna().sum()))"
   ]
  },
  {
   "cell_type": "markdown",
   "metadata": {},
   "source": [
    "We have also the `license` feature to deal with. It is not a \"t/f\" column but after the _data discovery_ phase the decision was to create a new binary feature which will stand for 'license missing yes/no'. Let's do that."
   ]
  },
  {
   "cell_type": "code",
   "execution_count": 120,
   "metadata": {},
   "outputs": [
    {
     "name": "stdout",
     "output_type": "stream",
     "text": [
      "After column dropping, new shape is now (64293, 44)\n"
     ]
    }
   ],
   "source": [
    "df_lst_reduced_notxt['license_missing'] = df_lst_reduced_notxt['license'].apply(lambda x: 1 if pd.isnull(x) else 0)\n",
    "assert df_lst_reduced_notxt['license_missing'].sum() == df_lst_reduced_notxt['license'].isna().sum()\n",
    "# Do not forget to remove the old column which is now useless\n",
    "df_lst_reduced_notxt = cleaning.drop_cols(df_lst_reduced_notxt, ['license'])"
   ]
  },
  {
   "cell_type": "markdown",
   "metadata": {},
   "source": [
    "## 2.3. Handle 'currency' columns\n",
    "For columns with 'currency' elements ('price', 'weekly_price', 'monthly_price', 'security_deposit', 'cleaning_fee', 'extra_people') we will remove currency symbol and handle the thousands separator. In the end we convert to float."
   ]
  },
  {
   "cell_type": "code",
   "execution_count": 121,
   "metadata": {},
   "outputs": [],
   "source": [
    "currency_cols = ['price', 'weekly_price', 'monthly_price', 'security_deposit', 'cleaning_fee', 'extra_people']\n",
    "df_lst_reduced_notxt_currok = cleaning.clean_currency_columns(df_lst_reduced_notxt, currency_cols)"
   ]
  },
  {
   "cell_type": "code",
   "execution_count": 122,
   "metadata": {},
   "outputs": [
    {
     "name": "stdout",
     "output_type": "stream",
     "text": [
      "Nb missing values for feature 'price' is 0\n",
      "Nb missing values for feature 'weekly_price' is 53899\n",
      "Nb missing values for feature 'monthly_price' is 57694\n",
      "Nb missing values for feature 'security_deposit' is 19852\n",
      "Nb missing values for feature 'cleaning_fee' is 17191\n",
      "Nb missing values for feature 'extra_people' is 0\n"
     ]
    }
   ],
   "source": [
    "for feat in currency_cols:\n",
    "    print(\"Nb missing values for feature '{}' is {}\".format(feat, df_lst_reduced_notxt_currok[feat].isna().sum()))"
   ]
  },
  {
   "cell_type": "markdown",
   "metadata": {},
   "source": [
    "After new considerations **regarding the number of missing values I decide to also drop `weekly_price` and `monthly_price`**.  With very few missing values, perhaps it would have helped us to predict a mean price but here imputation will lead us with really strange results so I prefer to get rid of those features. I should have seen that before but late is better than never so...  \n",
    "`cleaning_fee` and `security_deposit` will have to be handled later with kind of imputation."
   ]
  },
  {
   "cell_type": "code",
   "execution_count": 123,
   "metadata": {},
   "outputs": [
    {
     "name": "stdout",
     "output_type": "stream",
     "text": [
      "After column dropping, new shape is now (64293, 42)\n"
     ]
    }
   ],
   "source": [
    "df_lst_reduced_notxt_currok = cleaning.drop_cols(df_lst_reduced_notxt_currok, ['weekly_price', 'monthly_price'])"
   ]
  },
  {
   "cell_type": "markdown",
   "metadata": {},
   "source": [
    "## 2.4. One-hot encoding of categorical features\n",
    "`neighbourhood_cleansed`, `room_type`, `bed_type` and `cancellation_policy` are the features chosen for this kind of transformation."
   ]
  },
  {
   "cell_type": "code",
   "execution_count": 124,
   "metadata": {},
   "outputs": [
    {
     "name": "stdout",
     "output_type": "stream",
     "text": [
      "Nb missing values for feature 'neighbourhood_cleansed' is 0\n",
      "Nb missing values for feature 'room_type' is 0\n",
      "Nb missing values for feature 'bed_type' is 0\n",
      "Nb missing values for feature 'cancellation_policy' is 1\n",
      "After one-hot encoding, new shape is now (64293, 72)\n"
     ]
    }
   ],
   "source": [
    "one_hot_cols = ['neighbourhood_cleansed', 'room_type', 'bed_type', 'cancellation_policy']\n",
    "for feat in one_hot_cols:\n",
    "    print(\"Nb missing values for feature '{}' is {}\".format(feat, df_lst_reduced_notxt_currok[feat].isna().sum()))\n",
    "df_lst_reduced_notxt_currok_dummies = cleaning.encode_categorical(df_lst_reduced_notxt_currok, one_hot_cols)"
   ]
  },
  {
   "cell_type": "markdown",
   "metadata": {},
   "source": [
    "## 2.5 Handle 'jurisdiction_names' feature"
   ]
  },
  {
   "cell_type": "code",
   "execution_count": 125,
   "metadata": {},
   "outputs": [
    {
     "data": {
      "text/plain": [
       "{\"translation missing: en.occupancy.taxes.jurisdiction.names.FR_\",\" PARIS\"}                                                                           62850\n",
       "{\"translation missing: en.occupancy.taxes.jurisdiction.names.FR_\"}                                                                                      767\n",
       "{\"translation missing: en.occupancy.taxes.jurisdiction.names.FR_\",\" BOULOGNE BILLANCOURT\"}                                                               77\n",
       "{\"translation missing: en.occupancy.taxes.jurisdiction.names.FR_\",\" NEUILLY SUR SEINE\"}                                                                  55\n",
       "{\"translation missing: en.occupancy.taxes.jurisdiction.names.FR_\",\" ISSY LES MOULINEAUX\"}                                                                52\n",
       "{\"translation missing: en.occupancy.taxes.jurisdiction.names.FR_\",\" LEVALLOIS PERRET\"}                                                                   50\n",
       "{\"translation missing: en.occupancy.taxes.jurisdiction.names.FR_\",\" SAINT MANDE\"}                                                                        49\n",
       "{\"translation missing: en.occupancy.taxes.jurisdiction.names.FR_\",\" PANTIN\"}                                                                             45\n",
       "{\"translation missing: en.occupancy.taxes.jurisdiction.names.FR_\",\" GENTILLY\"}                                                                           40\n",
       "{\"translation missing: en.occupancy.taxes.jurisdiction.names.FR_\",\" VINCENNES\"}                                                                          37\n",
       "{\"translation missing: en.occupancy.taxes.jurisdiction.names.FR_\",\" SAINT OUEN\"}                                                                         34\n",
       "{\"translation missing: en.occupancy.taxes.jurisdiction.names.FR_\",\" CLICHY\"}                                                                             30\n",
       "{\"translation missing: en.occupancy.taxes.jurisdiction.names.FR_\",\" MONTROUGE\"}                                                                          29\n",
       "{\"translation missing: en.occupancy.taxes.jurisdiction.names.FR_\",\" ASNIERES SUR SEINE\"}                                                                 22\n",
       "{\"translation missing: en.occupancy.taxes.jurisdiction.names.FR_\",\" BAGNOLET\"}                                                                           22\n",
       "{\"translation missing: en.occupancy.taxes.jurisdiction.names.FR_\",\" IVRY SUR SEINE\"}                                                                     21\n",
       "{\"translation missing: en.occupancy.taxes.jurisdiction.names.FR_\",\" CHARENTON LE PONT\"}                                                                  19\n",
       "{\"translation missing: en.occupancy.taxes.jurisdiction.names.FR_\",\" AUBERVILLIERS\"}                                                                      17\n",
       "{\"translation missing: en.occupancy.taxes.jurisdiction.names.FR_\",\" LE KREMLIN BICETRE\"}                                                                 11\n",
       "{\"translation missing: en.occupancy.taxes.jurisdiction.names.FR_\",\" SURESNES\"}                                                                           10\n",
       "{\"translation missing: en.occupancy.taxes.jurisdiction.names.FR_\",\" VANVES\"}                                                                             10\n",
       "{\"translation missing: en.occupancy.taxes.jurisdiction.names.FR_\",\" MONTREUIL\"}                                                                           8\n",
       "{\"translation missing: en.occupancy.taxes.jurisdiction.names.FR_\",\" SAINT MAURICE\"}                                                                       8\n",
       "{Paris}                                                                                                                                                   6\n",
       "{\"translation missing: en.occupancy.taxes.jurisdiction.names.FR_\",\" NOGENT SUR MARNE\"}                                                                    4\n",
       "{\"translation missing: en.occupancy.taxes.jurisdiction.names.FR_\",\" FONTENAY SOUS BOIS\"}                                                                  4\n",
       "{\"translation missing: en.occupancy.taxes.jurisdiction.names.FR_\",\" DEUIL LA BARRE\"}                                                                      3\n",
       "{\"translation missing: en.occupancy.taxes.jurisdiction.names.FR_\",\" SOULAC SUR MER\"}                                                                      2\n",
       "{\"translation missing: en.occupancy.taxes.jurisdiction.names.FR_\",\" PUTEAUX\"}                                                                             2\n",
       "{\"translation missing: en.occupancy.taxes.jurisdiction.names.FR_\",\" translation missing: en.occupancy.taxes.jurisdiction.names.FR_\",\" BRAS PANON\"}        2\n",
       "{\"translation missing: en.occupancy.taxes.jurisdiction.names.FR_\",\" CHAMONIX MONT BLANC\"}                                                                 1\n",
       "{\"translation missing: en.occupancy.taxes.jurisdiction.names.FR_\",\" ROCHECHOUART\"}                                                                        1\n",
       "{\"translation missing: en.occupancy.taxes.jurisdiction.names.FR_\",\" SAINT JEAN LE BLANC\"}                                                                 1\n",
       "{\"translation missing: en.occupancy.taxes.jurisdiction.names.FR_\",\" COLMAR\"}                                                                              1\n",
       "{\"translation missing: en.occupancy.taxes.jurisdiction.names.FR_\",\" VILLEJUIF\"}                                                                           1\n",
       "{\"translation missing: en.occupancy.taxes.jurisdiction.names.FR_\",\" PARIS LHOPITAL\"}                                                                      1\n",
       "Name: jurisdiction_names, dtype: int64"
      ]
     },
     "execution_count": 125,
     "metadata": {},
     "output_type": "execute_result"
    }
   ],
   "source": [
    "df_lst_reduced_notxt_currok_dummies.jurisdiction_names.value_counts()"
   ]
  },
  {
   "cell_type": "markdown",
   "metadata": {},
   "source": [
    "All well considered, after transformation 98% of the dataset will have _'Paris'_ as value. The 2nd value will be something like _'None'_ (767 rows) so it will not help us. **In the end I choose to drop this feature.**"
   ]
  },
  {
   "cell_type": "code",
   "execution_count": 126,
   "metadata": {},
   "outputs": [
    {
     "name": "stdout",
     "output_type": "stream",
     "text": [
      "After column dropping, new shape is now (64293, 71)\n"
     ]
    }
   ],
   "source": [
    "df_lst_reduced_notxt_currok_dummies = cleaning.drop_cols(df_lst_reduced_notxt_currok_dummies, ['jurisdiction_names'])"
   ]
  },
  {
   "cell_type": "markdown",
   "metadata": {},
   "source": [
    "## 2.6 Last but not least, 'amenities' management\n",
    "For this feature we will extract useful information and depending on the number of distinct values, perform 1-hot encoding over the values"
   ]
  },
  {
   "cell_type": "code",
   "execution_count": 127,
   "metadata": {},
   "outputs": [
    {
     "data": {
      "text/plain": [
       "{}                                                                                                                                                                                                                                                   181\n",
       "{TV,\"Cable TV\",Wifi,Kitchen,Heating,\"Family/kid friendly\",Washer,\"Smoke detector\",Hangers,\"Hair dryer\",Iron,\"Laptop friendly workspace\"}                                                                                                              52\n",
       "{TV,Wifi,Kitchen,Heating,Washer,\"Smoke detector\",Essentials,Shampoo,Hangers,\"Hair dryer\",Iron,\"Laptop friendly workspace\",\"Private entrance\",\"Hot water\",\"Bed linens\"}                                                                                34\n",
       "{Internet,Wifi,Kitchen,Heating,Essentials}                                                                                                                                                                                                            31\n",
       "{TV,Wifi,Kitchen,Elevator,Heating,Washer,\"Smoke detector\",Essentials,Hangers,\"Hair dryer\",Iron,\"Laptop friendly workspace\"}                                                                                                                           28\n",
       "{Internet,Wifi,Kitchen,Heating,Washer,Essentials}                                                                                                                                                                                                     28\n",
       "{TV,Wifi,Kitchen,Heating,Washer,\"Smoke detector\",Essentials,Shampoo,Hangers,\"Hair dryer\",Iron}                                                                                                                                                        27\n",
       "{TV,Wifi,Kitchen,Heating,Washer,\"Smoke detector\",Essentials,\"Hair dryer\",Iron}                                                                                                                                                                        26\n",
       "{TV,Internet,Wifi,Kitchen,Heating,Washer,Essentials}                                                                                                                                                                                                  23\n",
       "{Wifi,Kitchen,Heating,Washer,\"Smoke detector\",\"Carbon monoxide detector\",Essentials,Shampoo,Hangers,\"Laptop friendly workspace\",\"Self check-in\",Lockbox,\"Private living room\",\"Hot water\",\"Bed linens\",Refrigerator,\"Dishes and silverware\",Oven}     22\n",
       "Name: amenities, dtype: int64"
      ]
     },
     "execution_count": 127,
     "metadata": {},
     "output_type": "execute_result"
    }
   ],
   "source": [
    "df_lst_reduced_notxt_currok_dummies.amenities.value_counts()[:10]"
   ]
  },
  {
   "cell_type": "code",
   "execution_count": 128,
   "metadata": {},
   "outputs": [
    {
     "data": {
      "text/plain": [
       "0"
      ]
     },
     "execution_count": 128,
     "metadata": {},
     "output_type": "execute_result"
    }
   ],
   "source": [
    "df_lst_reduced_notxt_currok_dummies.amenities.isna().sum()"
   ]
  },
  {
   "cell_type": "markdown",
   "metadata": {},
   "source": [
    "Good point is that **there is no missing value** (actually they are _replaced_ with '{}'). Now I will remove the leading '{' and '}' characters. And remove also the '\"' punctuation.  \n",
    "I will then handle the multiple values transformation to dummies with this [helpful link from stackoverflow](https://stackoverflow.com/questions/18889588/create-dummies-from-column-with-multiple-values-in-pandas)."
   ]
  },
  {
   "cell_type": "code",
   "execution_count": 129,
   "metadata": {},
   "outputs": [],
   "source": [
    "df_lst_reduced_notxt_currok_dummies.amenities = df_lst_reduced_notxt_currok_dummies.amenities.str.strip('{}')\n",
    "df_lst_reduced_notxt_currok_dummies.amenities = df_lst_reduced_notxt_currok_dummies.amenities.str.replace('\"', '')"
   ]
  },
  {
   "cell_type": "code",
   "execution_count": 130,
   "metadata": {},
   "outputs": [],
   "source": [
    "df_only_amenities = df_lst_reduced_notxt_currok_dummies.amenities\n",
    "df_only_amenities = df_only_amenities.str.get_dummies(sep=',')"
   ]
  },
  {
   "cell_type": "code",
   "execution_count": 131,
   "metadata": {},
   "outputs": [
    {
     "data": {
      "text/html": [
       "<div>\n",
       "<style scoped>\n",
       "    .dataframe tbody tr th:only-of-type {\n",
       "        vertical-align: middle;\n",
       "    }\n",
       "\n",
       "    .dataframe tbody tr th {\n",
       "        vertical-align: top;\n",
       "    }\n",
       "\n",
       "    .dataframe thead th {\n",
       "        text-align: right;\n",
       "    }\n",
       "</style>\n",
       "<table border=\"1\" class=\"dataframe\">\n",
       "  <thead>\n",
       "    <tr style=\"text-align: right;\">\n",
       "      <th></th>\n",
       "      <th>toilet</th>\n",
       "      <th>24-hour check-in</th>\n",
       "      <th>Accessible-height bed</th>\n",
       "      <th>Accessible-height toilet</th>\n",
       "      <th>Air conditioning</th>\n",
       "      <th>Air purifier</th>\n",
       "      <th>Alfresco bathtub</th>\n",
       "      <th>Amazon Echo</th>\n",
       "      <th>BBQ grill</th>\n",
       "      <th>Baby bath</th>\n",
       "      <th>...</th>\n",
       "      <th>Wide doorway to guest bathroom</th>\n",
       "      <th>Wide entrance</th>\n",
       "      <th>Wide entrance for guests</th>\n",
       "      <th>Wide entryway</th>\n",
       "      <th>Wide hallways</th>\n",
       "      <th>Wifi</th>\n",
       "      <th>Window guards</th>\n",
       "      <th>Wine cooler</th>\n",
       "      <th>translation missing: en.hosting_amenity_49</th>\n",
       "      <th>translation missing: en.hosting_amenity_50</th>\n",
       "    </tr>\n",
       "  </thead>\n",
       "  <tbody>\n",
       "    <tr>\n",
       "      <th>0</th>\n",
       "      <td>0</td>\n",
       "      <td>0</td>\n",
       "      <td>0</td>\n",
       "      <td>0</td>\n",
       "      <td>0</td>\n",
       "      <td>0</td>\n",
       "      <td>0</td>\n",
       "      <td>0</td>\n",
       "      <td>0</td>\n",
       "      <td>0</td>\n",
       "      <td>...</td>\n",
       "      <td>0</td>\n",
       "      <td>0</td>\n",
       "      <td>0</td>\n",
       "      <td>0</td>\n",
       "      <td>0</td>\n",
       "      <td>1</td>\n",
       "      <td>0</td>\n",
       "      <td>0</td>\n",
       "      <td>0</td>\n",
       "      <td>0</td>\n",
       "    </tr>\n",
       "    <tr>\n",
       "      <th>1</th>\n",
       "      <td>0</td>\n",
       "      <td>0</td>\n",
       "      <td>0</td>\n",
       "      <td>0</td>\n",
       "      <td>0</td>\n",
       "      <td>0</td>\n",
       "      <td>0</td>\n",
       "      <td>0</td>\n",
       "      <td>0</td>\n",
       "      <td>0</td>\n",
       "      <td>...</td>\n",
       "      <td>0</td>\n",
       "      <td>0</td>\n",
       "      <td>0</td>\n",
       "      <td>0</td>\n",
       "      <td>0</td>\n",
       "      <td>1</td>\n",
       "      <td>0</td>\n",
       "      <td>0</td>\n",
       "      <td>0</td>\n",
       "      <td>0</td>\n",
       "    </tr>\n",
       "    <tr>\n",
       "      <th>2</th>\n",
       "      <td>0</td>\n",
       "      <td>1</td>\n",
       "      <td>0</td>\n",
       "      <td>0</td>\n",
       "      <td>0</td>\n",
       "      <td>0</td>\n",
       "      <td>0</td>\n",
       "      <td>0</td>\n",
       "      <td>0</td>\n",
       "      <td>0</td>\n",
       "      <td>...</td>\n",
       "      <td>0</td>\n",
       "      <td>0</td>\n",
       "      <td>0</td>\n",
       "      <td>0</td>\n",
       "      <td>0</td>\n",
       "      <td>1</td>\n",
       "      <td>0</td>\n",
       "      <td>0</td>\n",
       "      <td>0</td>\n",
       "      <td>0</td>\n",
       "    </tr>\n",
       "    <tr>\n",
       "      <th>3</th>\n",
       "      <td>0</td>\n",
       "      <td>0</td>\n",
       "      <td>0</td>\n",
       "      <td>0</td>\n",
       "      <td>0</td>\n",
       "      <td>0</td>\n",
       "      <td>0</td>\n",
       "      <td>0</td>\n",
       "      <td>0</td>\n",
       "      <td>0</td>\n",
       "      <td>...</td>\n",
       "      <td>0</td>\n",
       "      <td>0</td>\n",
       "      <td>0</td>\n",
       "      <td>0</td>\n",
       "      <td>0</td>\n",
       "      <td>1</td>\n",
       "      <td>0</td>\n",
       "      <td>0</td>\n",
       "      <td>0</td>\n",
       "      <td>0</td>\n",
       "    </tr>\n",
       "    <tr>\n",
       "      <th>4</th>\n",
       "      <td>0</td>\n",
       "      <td>0</td>\n",
       "      <td>0</td>\n",
       "      <td>0</td>\n",
       "      <td>0</td>\n",
       "      <td>0</td>\n",
       "      <td>0</td>\n",
       "      <td>0</td>\n",
       "      <td>0</td>\n",
       "      <td>0</td>\n",
       "      <td>...</td>\n",
       "      <td>0</td>\n",
       "      <td>0</td>\n",
       "      <td>0</td>\n",
       "      <td>0</td>\n",
       "      <td>0</td>\n",
       "      <td>1</td>\n",
       "      <td>0</td>\n",
       "      <td>0</td>\n",
       "      <td>0</td>\n",
       "      <td>0</td>\n",
       "    </tr>\n",
       "  </tbody>\n",
       "</table>\n",
       "<p>5 rows × 182 columns</p>\n",
       "</div>"
      ],
      "text/plain": [
       "    toilet  24-hour check-in  Accessible-height bed  Accessible-height toilet  \\\n",
       "0        0                 0                      0                         0   \n",
       "1        0                 0                      0                         0   \n",
       "2        0                 1                      0                         0   \n",
       "3        0                 0                      0                         0   \n",
       "4        0                 0                      0                         0   \n",
       "\n",
       "   Air conditioning  Air purifier  Alfresco bathtub  Amazon Echo  BBQ grill  \\\n",
       "0                 0             0                 0            0          0   \n",
       "1                 0             0                 0            0          0   \n",
       "2                 0             0                 0            0          0   \n",
       "3                 0             0                 0            0          0   \n",
       "4                 0             0                 0            0          0   \n",
       "\n",
       "   Baby bath  ...  Wide doorway to guest bathroom  Wide entrance  \\\n",
       "0          0  ...                               0              0   \n",
       "1          0  ...                               0              0   \n",
       "2          0  ...                               0              0   \n",
       "3          0  ...                               0              0   \n",
       "4          0  ...                               0              0   \n",
       "\n",
       "   Wide entrance for guests  Wide entryway  Wide hallways  Wifi  \\\n",
       "0                         0              0              0     1   \n",
       "1                         0              0              0     1   \n",
       "2                         0              0              0     1   \n",
       "3                         0              0              0     1   \n",
       "4                         0              0              0     1   \n",
       "\n",
       "   Window guards  Wine cooler  translation missing: en.hosting_amenity_49  \\\n",
       "0              0            0                                           0   \n",
       "1              0            0                                           0   \n",
       "2              0            0                                           0   \n",
       "3              0            0                                           0   \n",
       "4              0            0                                           0   \n",
       "\n",
       "   translation missing: en.hosting_amenity_50  \n",
       "0                                           0  \n",
       "1                                           0  \n",
       "2                                           0  \n",
       "3                                           0  \n",
       "4                                           0  \n",
       "\n",
       "[5 rows x 182 columns]"
      ]
     },
     "execution_count": 131,
     "metadata": {},
     "output_type": "execute_result"
    }
   ],
   "source": [
    "df_only_amenities.head()"
   ]
  },
  {
   "cell_type": "markdown",
   "metadata": {},
   "source": [
    "Wow 182 columns that's a lot !  \n",
    "**Notes:**\n",
    "* there are at least 2 translations missing, will it matter ?\n",
    "* in what has been transformed the empty initial amenities value '{}' ?"
   ]
  },
  {
   "cell_type": "code",
   "execution_count": 132,
   "metadata": {},
   "outputs": [
    {
     "name": "stdout",
     "output_type": "stream",
     "text": [
      "[' toilet', '24-hour check-in', 'Accessible-height bed', 'Accessible-height toilet', 'Air conditioning', 'Air purifier', 'Alfresco bathtub', 'Amazon Echo', 'BBQ grill', 'Baby bath', 'Baby monitor', 'Babysitter recommendations', 'Balcony', 'Bath towel', 'Bathroom essentials', 'Bathtub', 'Bathtub with bath chair', 'Beach essentials', 'Beach view', 'Beachfront', 'Bed linens', 'Bedroom comforts', 'Bidet', 'Body soap', 'Breakfast', 'Breakfast table', 'Building staff', 'Buzzer/wireless intercom', 'Cable TV', 'Carbon monoxide detector', 'Cat(s)', 'Ceiling fan', 'Ceiling hoist', 'Central air conditioning', 'Changing table', 'Children’s books and toys', 'Children’s dinnerware', 'Cleaning before checkout', 'Coffee maker', 'Convection oven', 'Cooking basics', 'Crib', 'DVD player', 'Day bed', 'Disabled parking spot', 'Dishes and silverware', 'Dishwasher', 'Dog(s)', 'Doorman', 'Double oven', 'Dryer', 'EV charger', 'Electric profiling bed', 'Elevator', 'En suite bathroom', 'Espresso machine', 'Essentials', 'Ethernet connection', 'Exercise equipment', 'Extra pillows and blankets', 'Extra space around bed', 'Family/kid friendly', 'Fire extinguisher', 'Fireplace guards', 'Firm mattress', 'First aid kit', 'Fixed grab bars for shower', 'Fixed grab bars for toilet', 'Flat path to guest entrance', 'Formal dining area', 'Free parking on premises', 'Free street parking', 'Full kitchen', 'Game console', 'Garden or backyard', 'Gas oven', 'Ground floor access', 'Gym', 'HBO GO', 'Hair dryer', 'Handheld shower head', 'Hangers', 'Heated floors', 'Heated towel rack', 'Heating', 'High chair', 'High-resolution computer monitor', 'Host greets you', 'Hot tub', 'Hot water', 'Hot water kettle', 'Indoor fireplace', 'Internet', 'Iron', 'Ironing Board', 'Jetted tub', 'Keypad', 'Kitchen', 'Kitchenette', 'Lake access', 'Laptop friendly workspace', 'Lock on bedroom door', 'Lockbox', 'Long term stays allowed', 'Luggage dropoff allowed', 'Memory foam mattress', 'Microwave', 'Mini fridge', 'Mobile hoist', 'Mudroom', 'Murphy bed', 'Netflix', 'No stairs or steps to enter', 'Other', 'Other pet(s)', 'Outdoor seating', 'Outlet covers', 'Oven', 'Pack ’n Play/travel crib', 'Paid parking off premises', 'Paid parking on premises', 'Patio or balcony', 'Pets allowed', 'Pets live on this property', 'Pillow-top mattress', 'Pocket wifi', 'Pool', 'Pool with pool hoist', 'Printer', 'Private entrance', 'Private gym', 'Private living room', 'Projector and screen', 'Rain shower', 'Refrigerator', 'Roll-in shower', 'Roll-in shower with chair', 'Room-darkening shades', 'Safety card', 'Sauna', 'Self check-in', 'Shampoo', 'Shower chair', 'Single level home', 'Ski-in/Ski-out', 'Smart TV', 'Smart lock', 'Smoke detector', 'Smoking allowed', 'Soaking tub', 'Sound system', 'Stair gates', 'Stand alone steam shower', 'Standing valet', 'Steam oven', 'Stove', 'Suitable for events', 'Sun loungers', 'TV', 'Table corner guards', 'Tennis court', 'Terrace', 'Toaster', 'Toilet paper', 'Walk-in shower', 'Warming drawer', 'Washer', 'Washer / Dryer', 'Waterfront', 'Well-lit path to entrance', 'Wheelchair accessible', 'Wide clearance to shower', 'Wide doorway to guest bathroom', 'Wide entrance', 'Wide entrance for guests', 'Wide entryway', 'Wide hallways', 'Wifi', 'Window guards', 'Wine cooler', 'translation missing: en.hosting_amenity_49', 'translation missing: en.hosting_amenity_50']"
     ]
    }
   ],
   "source": [
    "print(df_only_amenities.columns.tolist(), end='')"
   ]
  },
  {
   "cell_type": "markdown",
   "metadata": {},
   "source": [
    "As 182 new columns is a lot, I will check if there are amenities with few occurrences."
   ]
  },
  {
   "cell_type": "code",
   "execution_count": 133,
   "metadata": {},
   "outputs": [
    {
     "data": {
      "image/png": "[encoded data removed]",
      "text/plain": [
       "<Figure size 1080x360 with 1 Axes>"
      ]
     },
     "metadata": {
      "needs_background": "light"
     },
     "output_type": "display_data"
    }
   ],
   "source": [
    "df_amen_sum = viz.plot_amenities_nb_features_and_tresholds(df_only_amenities)"
   ]
  },
  {
   "cell_type": "markdown",
   "metadata": {},
   "source": [
    "Here we are not choosing the number of clusters with 'elbow' method but the approach is similar: ***we are looking for a specific value (threshold) that would reduce our number of new amenities features in a smart way***. For that we count the number of listings containing each amenity and we plot the number of features that would be kept if the treshold were this or this value.  \n",
    "For instance, here we can see that **with a treshold of 642 we keep around 80 features, that's almost 100 less !**  \n",
    "Note that 642 in this case represents 1% of the total number of listings so it's not bad at all: dropping the more or less 100 hundred features would impact less than 1% of the listings. The more we increase the treshold value the less we 'gain' in feature dropping (it is around 70 features for 2%). Let's keep the 1%."
   ]
  },
  {
   "cell_type": "code",
   "execution_count": 134,
   "metadata": {},
   "outputs": [
    {
     "data": {
      "text/html": [
       "<div>\n",
       "<style scoped>\n",
       "    .dataframe tbody tr th:only-of-type {\n",
       "        vertical-align: middle;\n",
       "    }\n",
       "\n",
       "    .dataframe tbody tr th {\n",
       "        vertical-align: top;\n",
       "    }\n",
       "\n",
       "    .dataframe thead th {\n",
       "        text-align: right;\n",
       "    }\n",
       "</style>\n",
       "<table border=\"1\" class=\"dataframe\">\n",
       "  <thead>\n",
       "    <tr style=\"text-align: right;\">\n",
       "      <th></th>\n",
       "      <th>amen_sum</th>\n",
       "    </tr>\n",
       "  </thead>\n",
       "  <tbody>\n",
       "    <tr>\n",
       "      <th>toilet</th>\n",
       "      <td>346</td>\n",
       "    </tr>\n",
       "    <tr>\n",
       "      <th>Accessible-height bed</th>\n",
       "      <td>257</td>\n",
       "    </tr>\n",
       "    <tr>\n",
       "      <th>Accessible-height toilet</th>\n",
       "      <td>221</td>\n",
       "    </tr>\n",
       "    <tr>\n",
       "      <th>Air purifier</th>\n",
       "      <td>3</td>\n",
       "    </tr>\n",
       "    <tr>\n",
       "      <th>Alfresco bathtub</th>\n",
       "      <td>1</td>\n",
       "    </tr>\n",
       "    <tr>\n",
       "      <th>Amazon Echo</th>\n",
       "      <td>3</td>\n",
       "    </tr>\n",
       "    <tr>\n",
       "      <th>BBQ grill</th>\n",
       "      <td>225</td>\n",
       "    </tr>\n",
       "  </tbody>\n",
       "</table>\n",
       "</div>"
      ],
      "text/plain": [
       "                          amen_sum\n",
       " toilet                        346\n",
       "Accessible-height bed          257\n",
       "Accessible-height toilet       221\n",
       "Air purifier                     3\n",
       "Alfresco bathtub                 1\n",
       "Amazon Echo                      3\n",
       "BBQ grill                      225"
      ]
     },
     "execution_count": 134,
     "metadata": {},
     "output_type": "execute_result"
    }
   ],
   "source": [
    "# Let's see what it looks like\n",
    "df_amen_sum[df_amen_sum['amen_sum'] < 642].head(7)"
   ]
  },
  {
   "cell_type": "code",
   "execution_count": 135,
   "metadata": {},
   "outputs": [
    {
     "name": "stdout",
     "output_type": "stream",
     "text": [
      "After column dropping, new shape is now (64293, 84)\n"
     ]
    }
   ],
   "source": [
    "df_only_amenities_reduced = cleaning.drop_cols(df_only_amenities, df_amen_sum[df_amen_sum['amen_sum'] < 642].index.tolist())"
   ]
  },
  {
   "cell_type": "code",
   "execution_count": 136,
   "metadata": {},
   "outputs": [
    {
     "name": "stdout",
     "output_type": "stream",
     "text": [
      "After column dropping, new shape is now (64293, 154)\n"
     ]
    }
   ],
   "source": [
    "# We're almost there, just concat and drop the original 'amenities' column\n",
    "df_almost_clean = pd.concat([df_lst_reduced_notxt_currok_dummies, df_only_amenities_reduced], axis=1)\n",
    "assert df_almost_clean.shape[1] == df_lst_reduced_notxt_currok_dummies.shape[1] + df_only_amenities_reduced.shape[1]\n",
    "assert df_almost_clean.shape[0] == df_lst_reduced_notxt_currok_dummies.shape[0]\n",
    "df_almost_clean = cleaning.drop_cols(df_almost_clean, ['amenities'])"
   ]
  },
  {
   "cell_type": "markdown",
   "metadata": {},
   "source": [
    "## 2.7. So now we can handle rows with missing values\n",
    "### Split train-val-test\n",
    "Because the next step involves imputation or creation of new columns to indicate when value is missing, it is time to proceed to train/test split. Why ? See this [reference](https://stats.stackexchange.com/questions/95083/imputation-before-or-after-splitting-into-train-and-test):\n",
    ">\"The division between training and test set is an attempt to replicate the situation where you have past information and are building a model which you will test on future as-yet unknown information: the training set takes the place of the past and the test set takes the place of the future, so you only get to test your trained model once.  \n",
    "Keeping the past/future analogy in mind, this means anything you do to pre-process or process your data, such as imputing missing values, you should do on the training set alone. You can then remember what you did to your training set if your test set also needs pre-processing or imputing, so that you do it the same way on both sets.\"\n",
    "\n",
    "But before doing that let's save what we have done so far so that we do not have to run it again. To ease the use, I have created a single `clean` function that takes the whole dataset as input and:\n",
    "* drop unnecessary columns\n",
    "* encode categorical to dummies 0/1\n",
    "* transform binary nominal to binary numeric 0/1*\n",
    "* handle currency symbols\n",
    "* extract amenities and dummies"
   ]
  },
  {
   "cell_type": "code",
   "execution_count": 137,
   "metadata": {},
   "outputs": [
    {
     "name": "stdout",
     "output_type": "stream",
     "text": [
      "After column dropping, new shape is now (64293, 41)\n",
      "After one-hot encoding, new shape is now (64293, 72)\n",
      "After column dropping, new shape is now (64293, 84)\n",
      "After column dropping, new shape is now (64293, 154)\n"
     ]
    }
   ],
   "source": [
    "# Whole cleaning in a single call + check the shape\n",
    "df_clean = cleaning.clean_listings(df_lst_full)\n",
    "assert df_clean.shape[0] == df_almost_clean.shape[0]\n",
    "assert df_clean.shape[1] == df_almost_clean.shape[1]"
   ]
  },
  {
   "cell_type": "markdown",
   "metadata": {},
   "source": [
    "#### Split into train, val and test"
   ]
  },
  {
   "cell_type": "code",
   "execution_count": 138,
   "metadata": {},
   "outputs": [
    {
     "name": "stdout",
     "output_type": "stream",
     "text": [
      "X_train and y_train have respectively 52076 and 52076 rows\n",
      "X_val and y_val have respectively 5787 and 5787 rows\n",
      "X_test and y_test have respectively 6430 and 6430 rows\n"
     ]
    }
   ],
   "source": [
    "# Define X and Y\n",
    "X = df_clean.drop(['price'], axis=1)\n",
    "y = df_clean['price']\n",
    "\n",
    "# Split train-test split with 10% for test and 90% for train + val\n",
    "X_train_val, X_test, y_train_val, y_test = train_test_split(X, y, test_size=0.1, random_state=42, shuffle=True)\n",
    "# Do it again with still 10% for validation and 90% for train\n",
    "X_train, X_val, y_train, y_val = train_test_split(X_train_val, y_train_val, test_size=0.1, random_state=42, shuffle=True)\n",
    "\n",
    "# Show number of rows for each\n",
    "print(\"X_train and y_train have respectively {} and {} rows\".format(X_train.shape[0], y_train.shape[0]))\n",
    "print(\"X_val and y_val have respectively {} and {} rows\".format(X_val.shape[0], y_val.shape[0]))\n",
    "print(\"X_test and y_test have respectively {} and {} rows\".format(X_test.shape[0], y_test.shape[0]))"
   ]
  },
  {
   "cell_type": "markdown",
   "metadata": {},
   "source": [
    "### Analyze missing for imputation decision\n",
    "Let's first analyze what we are concretely talking about by printing basic informations for each feature with at least one missing value in any row of the dataset."
   ]
  },
  {
   "cell_type": "code",
   "execution_count": 139,
   "metadata": {},
   "outputs": [
    {
     "name": "stdout",
     "output_type": "stream",
     "text": [
      "There are 2 different values for the 'host_is_superhost' feature.\n",
      "There are 54 missing values (0.10%).\n",
      "Here is a sample:\n",
      "[ 1.  0. nan]\n",
      "=========================================================\n",
      "\n",
      "There are 2 different values for the 'host_identity_verified' feature.\n",
      "There are 54 missing values (0.10%).\n",
      "Here is a sample:\n",
      "[ 0.  1. nan]\n",
      "=========================================================\n",
      "\n",
      "There are 17 different values for the 'bathrooms' feature.\n",
      "There are 51 missing values (0.10%).\n",
      "Here is a sample:\n",
      "[1.  1.5 2.  2.5 3.  4.  0.  3.5]\n",
      "=========================================================\n",
      "\n",
      "There are 13 different values for the 'bedrooms' feature.\n",
      "There are 38 missing values (0.07%).\n",
      "Here is a sample:\n",
      "[ 1.  2.  0.  3.  5.  4. 10.  6.]\n",
      "=========================================================\n",
      "\n",
      "There are 19 different values for the 'beds' feature.\n",
      "There are 385 missing values (0.74%).\n",
      "Here is a sample:\n",
      "[ 1.  4.  2. nan  3.  6.  7.  5.]\n",
      "=========================================================\n",
      "\n",
      "There are 479 different values for the 'security_deposit' feature.\n",
      "There are 16144 missing values (31.00%).\n",
      "Here is a sample:\n",
      "[  nan 1200.  800.    0.  300. 1106. 3000.  600.]\n",
      "=========================================================\n",
      "\n",
      "There are 189 different values for the 'cleaning_fee' feature.\n",
      "There are 13934 missing values (26.76%).\n",
      "Here is a sample:\n",
      "[ 15.  nan  90.  10.   0.  40. 183.  50.]\n",
      "=========================================================\n",
      "\n",
      "There are 55 different values for the 'review_scores_rating' feature.\n",
      "There are 12812 missing values (24.60%).\n",
      "Here is a sample:\n",
      "[ 80.  nan  90. 100.  97.  98.  84.  94.]\n",
      "=========================================================\n",
      "\n",
      "There are 9 different values for the 'review_scores_accuracy' feature.\n",
      "There are 12858 missing values (24.69%).\n",
      "Here is a sample:\n",
      "[10. nan  9.  7.  8.  5.  6.  2.]\n",
      "=========================================================\n",
      "\n",
      "There are 9 different values for the 'review_scores_cleanliness' feature.\n",
      "There are 12847 missing values (24.67%).\n",
      "Here is a sample:\n",
      "[10. nan  9.  8.  7.  2.  6.  4.]\n",
      "=========================================================\n",
      "\n",
      "There are 8 different values for the 'review_scores_checkin' feature.\n",
      "There are 12878 missing values (24.73%).\n",
      "Here is a sample:\n",
      "[10. nan  9.  7.  8.  6.  2.  4.]\n",
      "=========================================================\n",
      "\n",
      "There are 9 different values for the 'review_scores_communication' feature.\n",
      "There are 12851 missing values (24.68%).\n",
      "Here is a sample:\n",
      "[10. nan  9.  7.  8.  6.  2.  4.]\n",
      "=========================================================\n",
      "\n",
      "There are 8 different values for the 'review_scores_location' feature.\n",
      "There are 12874 missing values (24.72%).\n",
      "Here is a sample:\n",
      "[10. nan  9.  8.  6.  7.  2.  5.]\n",
      "=========================================================\n",
      "\n",
      "There are 9 different values for the 'review_scores_value' feature.\n",
      "There are 12877 missing values (24.73%).\n",
      "Here is a sample:\n",
      "[10. nan  9.  8.  7.  5.  6.  2.]\n",
      "=========================================================\n",
      "\n",
      "There are 878 different values for the 'reviews_per_month' feature.\n",
      "There are 11889 missing values (22.83%).\n",
      "Here is a sample:\n",
      "[0.16  nan 0.1  0.26 0.09 1.54 4.65 2.64]\n",
      "=========================================================\n",
      "\n"
     ]
    }
   ],
   "source": [
    "for feat in X_train.columns[X_train.isnull().any()].tolist():\n",
    "    q.print_basic_info_for_feature(X_train, feat)\n",
    "    print(\"=========================================================\\n\")"
   ]
  },
  {
   "cell_type": "markdown",
   "metadata": {},
   "source": [
    "### 2.7.1. 'host_is_superhost' & 'host_identity_verified'"
   ]
  },
  {
   "cell_type": "code",
   "execution_count": 140,
   "metadata": {},
   "outputs": [
    {
     "data": {
      "image/png": "[encoded data removed]",
      "text/plain": [
       "<Figure size 1080x360 with 2 Axes>"
      ]
     },
     "metadata": {
      "needs_background": "light"
     },
     "output_type": "display_data"
    }
   ],
   "source": [
    "viz.countplot_for_imputation(X_train, ['host_is_superhost', 'host_identity_verified'])"
   ]
  },
  {
   "cell_type": "markdown",
   "metadata": {},
   "source": [
    "**Imputation decision:** replace missing values in both features with mode value (0)."
   ]
  },
  {
   "cell_type": "markdown",
   "metadata": {},
   "source": [
    "### 2.7.2. 'bathrooms', 'bedrooms' & 'beds'"
   ]
  },
  {
   "cell_type": "code",
   "execution_count": 141,
   "metadata": {},
   "outputs": [
    {
     "data": {
      "image/png": "[encoded data removed]",
      "text/plain": [
       "<Figure size 1080x360 with 3 Axes>"
      ]
     },
     "metadata": {
      "needs_background": "light"
     },
     "output_type": "display_data"
    }
   ],
   "source": [
    "viz.countplot_for_imputation(X_train, ['bathrooms', 'bedrooms', 'beds'])"
   ]
  },
  {
   "cell_type": "markdown",
   "metadata": {},
   "source": [
    "**Imputation decision:** replace missing values in both features with mode value (1)."
   ]
  },
  {
   "cell_type": "markdown",
   "metadata": {},
   "source": [
    "### 2.7.3. 'security_deposit' & 'cleaning_fee'"
   ]
  },
  {
   "cell_type": "code",
   "execution_count": 142,
   "metadata": {},
   "outputs": [
    {
     "data": {
      "image/png": "[encoded data removed]",
      "text/plain": [
       "<Figure size 1080x360 with 2 Axes>"
      ]
     },
     "metadata": {
      "needs_background": "light"
     },
     "output_type": "display_data"
    }
   ],
   "source": [
    "viz.countplot_for_imputation(X_train, ['security_deposit', 'cleaning_fee'])"
   ]
  },
  {
   "cell_type": "markdown",
   "metadata": {},
   "source": [
    "Not so easy to decide with those plots. Let's analyze statistics data."
   ]
  },
  {
   "cell_type": "code",
   "execution_count": 143,
   "metadata": {},
   "outputs": [
    {
     "data": {
      "text/html": [
       "<div>\n",
       "<style scoped>\n",
       "    .dataframe tbody tr th:only-of-type {\n",
       "        vertical-align: middle;\n",
       "    }\n",
       "\n",
       "    .dataframe tbody tr th {\n",
       "        vertical-align: top;\n",
       "    }\n",
       "\n",
       "    .dataframe thead th {\n",
       "        text-align: right;\n",
       "    }\n",
       "</style>\n",
       "<table border=\"1\" class=\"dataframe\">\n",
       "  <thead>\n",
       "    <tr style=\"text-align: right;\">\n",
       "      <th></th>\n",
       "      <th>security_deposit</th>\n",
       "      <th>cleaning_fee</th>\n",
       "    </tr>\n",
       "  </thead>\n",
       "  <tbody>\n",
       "    <tr>\n",
       "      <th>count</th>\n",
       "      <td>35932.000000</td>\n",
       "      <td>38142.000000</td>\n",
       "    </tr>\n",
       "    <tr>\n",
       "      <th>mean</th>\n",
       "      <td>400.304993</td>\n",
       "      <td>39.139767</td>\n",
       "    </tr>\n",
       "    <tr>\n",
       "      <th>std</th>\n",
       "      <td>525.738838</td>\n",
       "      <td>35.055517</td>\n",
       "    </tr>\n",
       "    <tr>\n",
       "      <th>min</th>\n",
       "      <td>0.000000</td>\n",
       "      <td>0.000000</td>\n",
       "    </tr>\n",
       "    <tr>\n",
       "      <th>25%</th>\n",
       "      <td>100.000000</td>\n",
       "      <td>20.000000</td>\n",
       "    </tr>\n",
       "    <tr>\n",
       "      <th>50%</th>\n",
       "      <td>300.000000</td>\n",
       "      <td>30.000000</td>\n",
       "    </tr>\n",
       "    <tr>\n",
       "      <th>75%</th>\n",
       "      <td>500.000000</td>\n",
       "      <td>50.000000</td>\n",
       "    </tr>\n",
       "    <tr>\n",
       "      <th>max</th>\n",
       "      <td>4740.000000</td>\n",
       "      <td>700.000000</td>\n",
       "    </tr>\n",
       "  </tbody>\n",
       "</table>\n",
       "</div>"
      ],
      "text/plain": [
       "       security_deposit  cleaning_fee\n",
       "count      35932.000000  38142.000000\n",
       "mean         400.304993     39.139767\n",
       "std          525.738838     35.055517\n",
       "min            0.000000      0.000000\n",
       "25%          100.000000     20.000000\n",
       "50%          300.000000     30.000000\n",
       "75%          500.000000     50.000000\n",
       "max         4740.000000    700.000000"
      ]
     },
     "execution_count": 143,
     "metadata": {},
     "output_type": "execute_result"
    }
   ],
   "source": [
    "X_train[['security_deposit', 'cleaning_fee']].describe()"
   ]
  },
  {
   "cell_type": "markdown",
   "metadata": {},
   "source": [
    "For the `cleaning_fee` feature I will take the mean but for `security_deposit` there is high variance, I am more willing to take the mode."
   ]
  },
  {
   "cell_type": "code",
   "execution_count": 154,
   "metadata": {},
   "outputs": [
    {
     "data": {
      "text/plain": [
       "<matplotlib.axes._subplots.AxesSubplot at 0x2739acc2a58>"
      ]
     },
     "execution_count": 154,
     "metadata": {},
     "output_type": "execute_result"
    },
    {
     "data": {
      "image/png": "[encoded data removed]",
      "text/plain": [
       "<Figure size 432x288 with 1 Axes>"
      ]
     },
     "metadata": {
      "needs_background": "light"
     },
     "output_type": "display_data"
    }
   ],
   "source": [
    "sns.kdeplot(X_train['security_deposit'])"
   ]
  },
  {
   "cell_type": "code",
   "execution_count": 145,
   "metadata": {},
   "outputs": [
    {
     "data": {
      "text/plain": [
       "0.0       7418\n",
       "500.0     4733\n",
       "300.0     4469\n",
       "200.0     3282\n",
       "400.0     1943\n",
       "          ... \n",
       "157.0        1\n",
       "2121.0       1\n",
       "4375.0       1\n",
       "286.0        1\n",
       "1050.0       1\n",
       "Name: security_deposit, Length: 479, dtype: int64"
      ]
     },
     "execution_count": 145,
     "metadata": {},
     "output_type": "execute_result"
    }
   ],
   "source": [
    "X_train['security_deposit'].value_counts()"
   ]
  },
  {
   "cell_type": "markdown",
   "metadata": {},
   "source": [
    "Few values have also the same number of occurrences. 500€ could be a good one (we have seen that 75% of the listings are under this value).  \n",
    "**Imputation decisions:**\n",
    "* Replace `cleaning_fee` missing values with the mean value.\n",
    "* Let's go with 500€ for missing values in `security_deposit`."
   ]
  },
  {
   "cell_type": "markdown",
   "metadata": {},
   "source": [
    "### 2.7.4. Reviews\n",
    "#### The 6 reviews different values"
   ]
  },
  {
   "cell_type": "code",
   "execution_count": 146,
   "metadata": {},
   "outputs": [
    {
     "data": {
      "image/png": "[encoded data removed]",
      "text/plain": [
       "<Figure size 1080x360 with 3 Axes>"
      ]
     },
     "metadata": {
      "needs_background": "light"
     },
     "output_type": "display_data"
    }
   ],
   "source": [
    "viz.countplot_for_imputation(X_train, ['review_scores_accuracy', 'review_scores_cleanliness', 'review_scores_checkin'])"
   ]
  },
  {
   "cell_type": "code",
   "execution_count": 147,
   "metadata": {},
   "outputs": [
    {
     "data": {
      "image/png": "[encoded data removed]",
      "text/plain": [
       "<Figure size 1080x360 with 3 Axes>"
      ]
     },
     "metadata": {
      "needs_background": "light"
     },
     "output_type": "display_data"
    }
   ],
   "source": [
    "viz.countplot_for_imputation(X_train, ['review_scores_communication', 'review_scores_location', 'review_scores_value'])"
   ]
  },
  {
   "cell_type": "markdown",
   "metadata": {},
   "source": [
    "**Imputation decision:** let's replace with 10 (mode), it will just emphase a little bit more this most frequent value.\n",
    "\n",
    "#### The overall review score"
   ]
  },
  {
   "cell_type": "code",
   "execution_count": 148,
   "metadata": {},
   "outputs": [
    {
     "data": {
      "text/plain": [
       "<matplotlib.axes._subplots.AxesSubplot at 0x273a5180cc0>"
      ]
     },
     "execution_count": 148,
     "metadata": {},
     "output_type": "execute_result"
    },
    {
     "data": {
      "image/png": "[encoded data removed]",
      "text/plain": [
       "<Figure size 432x288 with 1 Axes>"
      ]
     },
     "metadata": {
      "needs_background": "light"
     },
     "output_type": "display_data"
    }
   ],
   "source": [
    "sns.kdeplot(X_train['review_scores_rating'])"
   ]
  },
  {
   "cell_type": "code",
   "execution_count": 149,
   "metadata": {},
   "outputs": [
    {
     "data": {
      "text/plain": [
       "100.0    9521\n",
       "93.0     2700\n",
       "96.0     2612\n",
       "97.0     2544\n",
       "95.0     2472\n",
       "90.0     2467\n",
       "98.0     2446\n",
       "80.0     1999\n",
       "Name: review_scores_rating, dtype: int64"
      ]
     },
     "execution_count": 149,
     "metadata": {},
     "output_type": "execute_result"
    }
   ],
   "source": [
    "X_train['review_scores_rating'].value_counts().head(8)"
   ]
  },
  {
   "cell_type": "markdown",
   "metadata": {},
   "source": [
    "**Imputation decision:** if we take '10' to the 6 others, let's take 100 for this one.\n",
    "\n",
    "#### The reviews per month\n",
    "There are 913 different values for the 'reviews_per_month' feature.  \n",
    "There are 14609 missing values (22.72%).  "
   ]
  },
  {
   "cell_type": "code",
   "execution_count": 150,
   "metadata": {},
   "outputs": [
    {
     "data": {
      "text/plain": [
       "<matplotlib.axes._subplots.AxesSubplot at 0x273a28de198>"
      ]
     },
     "execution_count": 150,
     "metadata": {},
     "output_type": "execute_result"
    },
    {
     "data": {
      "image/png": "[encoded data removed]",
      "text/plain": [
       "<Figure size 432x288 with 1 Axes>"
      ]
     },
     "metadata": {
      "needs_background": "light"
     },
     "output_type": "display_data"
    }
   ],
   "source": [
    "sns.kdeplot(X_train['reviews_per_month'])"
   ]
  },
  {
   "cell_type": "code",
   "execution_count": 151,
   "metadata": {},
   "outputs": [
    {
     "data": {
      "text/plain": [
       "1.00    1154\n",
       "0.02     724\n",
       "0.08     699\n",
       "0.03     697\n",
       "0.04     658\n",
       "0.05     644\n",
       "0.06     548\n",
       "2.00     531\n",
       "Name: reviews_per_month, dtype: int64"
      ]
     },
     "execution_count": 151,
     "metadata": {},
     "output_type": "execute_result"
    }
   ],
   "source": [
    "X_train['reviews_per_month'].value_counts().head(8)"
   ]
  },
  {
   "cell_type": "code",
   "execution_count": 152,
   "metadata": {},
   "outputs": [
    {
     "data": {
      "text/plain": [
       "count    40187.000000\n",
       "mean         1.213178\n",
       "std          1.469266\n",
       "min          0.010000\n",
       "25%          0.230000\n",
       "50%          0.700000\n",
       "75%          1.640000\n",
       "max         31.150000\n",
       "Name: reviews_per_month, dtype: float64"
      ]
     },
     "execution_count": 152,
     "metadata": {},
     "output_type": "execute_result"
    }
   ],
   "source": [
    "X_train['reviews_per_month'].describe()"
   ]
  },
  {
   "cell_type": "markdown",
   "metadata": {},
   "source": [
    "**Imputation decision:** take the mean value (1.21) which is not so far than the mode and between median and 3rd quartile.\n",
    "\n",
    "### Final word\n",
    "**Data preparation** part is now over. Next part will be focus on **Modeling** (model choice, metric selection, evaluation, etc). As the feature transformation might differ from one model to another I suggest to stop the _data preparation_ phase here and save our cleaned datasets into a `clean` folder."
   ]
  },
  {
   "cell_type": "code",
   "execution_count": 153,
   "metadata": {},
   "outputs": [
    {
     "name": "stdout",
     "output_type": "stream",
     "text": [
      "All files saved to ../data/clean folder\n"
     ]
    }
   ],
   "source": [
    "datacollector.save_listing_splits([X_train, y_train, X_val, y_val, X_test, y_test])"
   ]
  },
  {
   "cell_type": "markdown",
   "metadata": {},
   "source": [
    "---\n",
    "\n",
    "Now that everything has been saved, we can move forward with the most exciting part: **[Modeling !](4_Modeling.ipynb)**"
   ]
  }
 ],
 "metadata": {
  "kernelspec": {
   "display_name": "Python [conda env:udadsnd-p4] *",
   "language": "python",
   "name": "conda-env-udadsnd-p4-py"
  },
  "language_info": {
   "codemirror_mode": {
    "name": "ipython",
    "version": 3
   },
   "file_extension": ".py",
   "mimetype": "text/x-python",
   "name": "python",
   "nbconvert_exporter": "python",
   "pygments_lexer": "ipython3",
   "version": "3.7.3"
  }
 },
 "nbformat": 4,
 "nbformat_minor": 2
}
