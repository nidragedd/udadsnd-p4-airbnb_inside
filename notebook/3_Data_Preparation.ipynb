{
 "cells": [
  {
   "cell_type": "code",
   "execution_count": 48,
   "metadata": {},
   "outputs": [],
   "source": [
    "# Load the \"autoreload\" extension so that code can change\n",
    "# Always reload modules so that as soon as code changes in src, it gets automatically reloaded without kernel relaunch\n",
    "%load_ext autoreload\n",
    "%autoreload 2\n",
    "\n",
    "import pandas as pd\n",
    "import numpy as np\n",
    "\n",
    "import sys\n",
    "sys.path.append('../') \n",
    "\n",
    "from src.utils import datacollector\n",
    "from src.utils import constants as cst\n",
    "\n",
    "from src.visualization import visualization as viz\n",
    "from src.preprocessing import cleaning"
   ]
  },
  {
   "cell_type": "markdown",
   "metadata": {},
   "source": [
    "# REMINDER - OBJECTIVE\n",
    "As a reminder, **our objective for modeling will be to be able to predict the price for a given listing**.  \n",
    "We have seen that the price can be rather different depending on the period of the year. Of course, it can varies due to some other features, each one with its own importance. We have observed for example that the neighbourhood is one of them.  \n",
    "To build something which will more reflect what happens in real life, I should merge the `listings.csv.gz` dataset with the `calendar.csv.gz` one but it will give me a too huge dataset with more than 20 millions of rows and hundred of features.  \n",
    "**For computation reasons and as the goal of this project is more to validate an approach than building the perfectly perfect model, I choose to keep only the `listings.csv.gz` dataset and its 64K rows and my goal will be to try to predict the mean price for each element of the listing**.\n",
    "\n",
    "In next sections below you will find all preliminary steps that are mandatory before starting the modeling phase.  \n",
    "This will be based on what we have discovered during the [Data Understanding](1_Data_Understanding.ipynb) phase (see the 'summary' part for a reminder).\n",
    "\n",
    "# 1. Load dataset & drop unnecessary features\n",
    "The easiest thing to start with."
   ]
  },
  {
   "cell_type": "code",
   "execution_count": 2,
   "metadata": {},
   "outputs": [],
   "source": [
    "df_lst_full = pd.read_csv(datacollector.get_data_file(cst.LISTING_FULL_FILE), sep=',', header=0, low_memory=False)"
   ]
  },
  {
   "cell_type": "code",
   "execution_count": 3,
   "metadata": {},
   "outputs": [
    {
     "name": "stdout",
     "output_type": "stream",
     "text": [
      "After column dropping, new shape is now (64293, 51)\n"
     ]
    }
   ],
   "source": [
    "cols_to_drop = ['listing_url', 'scrape_id', 'last_scraped', 'experiences_offered', 'notes', 'transit', 'interaction', \n",
    "                'house_rules', 'thumbnail_url', 'medium_url', 'picture_url', 'xl_picture_url', 'host_id', 'host_name', \n",
    "                'host_about', 'host_response_time', 'host_response_rate', 'host_acceptance_rate', 'host_since', \n",
    "                'host_location', 'host_neighbourhood', 'host_listings_count', 'host_total_listings_count', \n",
    "                'host_verifications', 'host_url', 'host_thumbnail_url', 'host_picture_url', 'host_has_profile_pic', \n",
    "                'calculated_host_listings_count', 'calculated_host_listings_count_entire_homes', \n",
    "                'calculated_host_listings_count_private_rooms', 'calculated_host_listings_count_shared_rooms', 'street', \n",
    "                'neighbourhood', 'neighbourhood_group_cleansed', 'city', 'state', 'zipcode', 'market', 'smart_location', \n",
    "                'country_code', 'country', 'latitude', 'longitude', 'property_type', 'square_feet', 'has_availability', \n",
    "                'calendar_updated', 'calendar_last_scraped', 'first_review', 'last_review', 'requires_license', \n",
    "                'is_business_travel_ready', 'require_guest_profile_picture', 'require_guest_phone_verification']\n",
    "df_lst_reduced = cleaning.drop_cols(df_lst_full, cols_to_drop)"
   ]
  },
  {
   "cell_type": "markdown",
   "metadata": {},
   "source": [
    "# 2. Features transformation\n",
    "## 2.1. Text extraction or drop ?\n",
    "I said in [Data Understanding](1_Data_Understanding.ipynb) conclusion that depending on the use case, perhaps we could try to extract some keywords from `name`, `summary`, `space`, `description`, `neighborhood_overview`, `access`.  \n",
    "Idea is good and could be addressed with NLP packages, maint thing is those features contains text which is sometimes in french sometimes in english. That would add a non negligible amount of data so, for the moment, I propose to start with a simple approach and just drop those features."
   ]
  },
  {
   "cell_type": "code",
   "execution_count": 4,
   "metadata": {},
   "outputs": [
    {
     "name": "stdout",
     "output_type": "stream",
     "text": [
      "After column dropping, new shape is now (64293, 45)\n"
     ]
    }
   ],
   "source": [
    "txt_cols_to_drop = ['name', 'summary', 'space', 'description', 'neighborhood_overview', 'access']\n",
    "df_lst_reduced_notxt = cleaning.drop_cols(df_lst_reduced, txt_cols_to_drop)"
   ]
  },
  {
   "cell_type": "markdown",
   "metadata": {},
   "source": [
    "## 2.2. From 't'/'f' to binary 0/1\n",
    "Here we will deal with columns that contains the now famous \"t/f\" categorical nominal values."
   ]
  },
  {
   "cell_type": "code",
   "execution_count": 5,
   "metadata": {},
   "outputs": [
    {
     "name": "stdout",
     "output_type": "stream",
     "text": [
      "After transformation shape is still (64293, 45)\n"
     ]
    }
   ],
   "source": [
    "tf_cols = ['host_is_superhost', 'host_identity_verified', 'is_location_exact', 'instant_bookable']\n",
    "\n",
    "# Keep track of values before transformation so that we can check after that everything went as expected\n",
    "check_dict = {}\n",
    "\n",
    "# Transform each column and control\n",
    "for feat in tf_cols:\n",
    "    check_dict[feat] = df_lst_reduced_notxt[df_lst_reduced_notxt[feat] == 't'][feat].count()\n",
    "    df_lst_reduced_notxt = cleaning.transform_t_f(df_lst_reduced_notxt, feat)\n",
    "    \n",
    "    assert check_dict[feat] == df_lst_reduced_notxt[feat].sum()\n",
    "print(\"After transformation shape is still {}\".format(df_lst_reduced_notxt.shape))"
   ]
  },
  {
   "cell_type": "markdown",
   "metadata": {},
   "source": [
    "**Note:** the transformation for those features is not totally finished, **we will still have to handle missing values for some of them:**"
   ]
  },
  {
   "cell_type": "code",
   "execution_count": 6,
   "metadata": {},
   "outputs": [
    {
     "name": "stdout",
     "output_type": "stream",
     "text": [
      "Nb missing values for feature 'host_is_superhost' is 64\n",
      "Nb missing values for feature 'host_identity_verified' is 64\n",
      "Nb missing values for feature 'is_location_exact' is 0\n",
      "Nb missing values for feature 'instant_bookable' is 0\n"
     ]
    }
   ],
   "source": [
    "for feat in tf_cols:\n",
    "    print(\"Nb missing values for feature '{}' is {}\".format(feat, df_lst_reduced_notxt[feat].isna().sum()))"
   ]
  },
  {
   "cell_type": "markdown",
   "metadata": {},
   "source": [
    "We have also the `license` feature to deal with. It is not a \"t/f\" column but after the _data discovery_ phase the decision was to create a new binary feature which will stand for 'license missing yes/no'. Let's do that."
   ]
  },
  {
   "cell_type": "code",
   "execution_count": 7,
   "metadata": {},
   "outputs": [
    {
     "name": "stdout",
     "output_type": "stream",
     "text": [
      "After column dropping, new shape is now (64293, 45)\n"
     ]
    }
   ],
   "source": [
    "df_lst_reduced_notxt['license_missing'] = df_lst_reduced_notxt['license'].apply(lambda x: 1 if pd.isnull(x) else 0)\n",
    "assert df_lst_reduced_notxt['license_missing'].sum() == df_lst_reduced_notxt['license'].isna().sum()\n",
    "# Do not forget to remove the old column which is now useless\n",
    "df_lst_reduced_notxt = cleaning.drop_cols(df_lst_reduced_notxt, ['license'])"
   ]
  },
  {
   "cell_type": "markdown",
   "metadata": {},
   "source": [
    "## 2.3. Handle 'currency' columns\n",
    "For columns with 'currency' elements ('price', 'weekly_price', 'monthly_price', 'security_deposit', 'cleaning_fee', 'extra_people') we will remove currency symbol and handle the thousands separator. In the end we convert to float."
   ]
  },
  {
   "cell_type": "code",
   "execution_count": 8,
   "metadata": {},
   "outputs": [],
   "source": [
    "currency_cols = ['price', 'weekly_price', 'monthly_price', 'security_deposit', 'cleaning_fee', 'extra_people']\n",
    "df_lst_reduced_notxt_currok = cleaning.clean_currency_columns(df_lst_reduced_notxt, currency_cols)"
   ]
  },
  {
   "cell_type": "code",
   "execution_count": 9,
   "metadata": {},
   "outputs": [
    {
     "name": "stdout",
     "output_type": "stream",
     "text": [
      "Nb missing values for feature 'price' is 0\n",
      "Nb missing values for feature 'weekly_price' is 53899\n",
      "Nb missing values for feature 'monthly_price' is 57694\n",
      "Nb missing values for feature 'security_deposit' is 19852\n",
      "Nb missing values for feature 'cleaning_fee' is 17191\n",
      "Nb missing values for feature 'extra_people' is 0\n"
     ]
    }
   ],
   "source": [
    "for feat in currency_cols:\n",
    "    print(\"Nb missing values for feature '{}' is {}\".format(feat, df_lst_reduced_notxt_currok[feat].isna().sum()))"
   ]
  },
  {
   "cell_type": "markdown",
   "metadata": {},
   "source": [
    "After new considerations **regarding the number of missing values I decide to also drop `weekly_price` and `monthly_price`**.  With very few missing values, perhaps it would have helped us to predict a mean price but here imputation will lead us with really strange results so I prefer to get rid of those features. I should have seen that before but late is better than never so...  \n",
    "`cleaning_fee` and `security_deposit` will have to be handled later with kind of imputation."
   ]
  },
  {
   "cell_type": "code",
   "execution_count": 10,
   "metadata": {},
   "outputs": [
    {
     "name": "stdout",
     "output_type": "stream",
     "text": [
      "After column dropping, new shape is now (64293, 43)\n"
     ]
    }
   ],
   "source": [
    "df_lst_reduced_notxt_currok = cleaning.drop_cols(df_lst_reduced_notxt_currok, ['weekly_price', 'monthly_price'])"
   ]
  },
  {
   "cell_type": "markdown",
   "metadata": {},
   "source": [
    "## 2.4. One-hot encoding of categorical features\n",
    "`neighbourhood_cleansed`, `room_type`, `bed_type` and `cancellation_policy` are the features chosen for this kind of transformation."
   ]
  },
  {
   "cell_type": "code",
   "execution_count": 11,
   "metadata": {},
   "outputs": [
    {
     "name": "stdout",
     "output_type": "stream",
     "text": [
      "Nb missing values for feature 'neighbourhood_cleansed' is 0\n",
      "Nb missing values for feature 'room_type' is 0\n",
      "Nb missing values for feature 'bed_type' is 0\n",
      "Nb missing values for feature 'cancellation_policy' is 1\n",
      "After one-hot encoding, new shape is now (64293, 73)\n"
     ]
    }
   ],
   "source": [
    "one_hot_cols = ['neighbourhood_cleansed', 'room_type', 'bed_type', 'cancellation_policy']\n",
    "for feat in one_hot_cols:\n",
    "    print(\"Nb missing values for feature '{}' is {}\".format(feat, df_lst_reduced_notxt_currok[feat].isna().sum()))\n",
    "df_lst_reduced_notxt_currok_dummies = cleaning.encode_categorical(df_lst_reduced_notxt_currok, one_hot_cols)"
   ]
  },
  {
   "cell_type": "markdown",
   "metadata": {},
   "source": [
    "## 2.5 Handle 'jurisdiction_names' feature"
   ]
  },
  {
   "cell_type": "code",
   "execution_count": 12,
   "metadata": {},
   "outputs": [
    {
     "data": {
      "text/plain": [
       "{\"translation missing: en.occupancy.taxes.jurisdiction.names.FR_\",\" PARIS\"}                                                                           62850\n",
       "{\"translation missing: en.occupancy.taxes.jurisdiction.names.FR_\"}                                                                                      767\n",
       "{\"translation missing: en.occupancy.taxes.jurisdiction.names.FR_\",\" BOULOGNE BILLANCOURT\"}                                                               77\n",
       "{\"translation missing: en.occupancy.taxes.jurisdiction.names.FR_\",\" NEUILLY SUR SEINE\"}                                                                  55\n",
       "{\"translation missing: en.occupancy.taxes.jurisdiction.names.FR_\",\" ISSY LES MOULINEAUX\"}                                                                52\n",
       "{\"translation missing: en.occupancy.taxes.jurisdiction.names.FR_\",\" LEVALLOIS PERRET\"}                                                                   50\n",
       "{\"translation missing: en.occupancy.taxes.jurisdiction.names.FR_\",\" SAINT MANDE\"}                                                                        49\n",
       "{\"translation missing: en.occupancy.taxes.jurisdiction.names.FR_\",\" PANTIN\"}                                                                             45\n",
       "{\"translation missing: en.occupancy.taxes.jurisdiction.names.FR_\",\" GENTILLY\"}                                                                           40\n",
       "{\"translation missing: en.occupancy.taxes.jurisdiction.names.FR_\",\" VINCENNES\"}                                                                          37\n",
       "{\"translation missing: en.occupancy.taxes.jurisdiction.names.FR_\",\" SAINT OUEN\"}                                                                         34\n",
       "{\"translation missing: en.occupancy.taxes.jurisdiction.names.FR_\",\" CLICHY\"}                                                                             30\n",
       "{\"translation missing: en.occupancy.taxes.jurisdiction.names.FR_\",\" MONTROUGE\"}                                                                          29\n",
       "{\"translation missing: en.occupancy.taxes.jurisdiction.names.FR_\",\" ASNIERES SUR SEINE\"}                                                                 22\n",
       "{\"translation missing: en.occupancy.taxes.jurisdiction.names.FR_\",\" BAGNOLET\"}                                                                           22\n",
       "{\"translation missing: en.occupancy.taxes.jurisdiction.names.FR_\",\" IVRY SUR SEINE\"}                                                                     21\n",
       "{\"translation missing: en.occupancy.taxes.jurisdiction.names.FR_\",\" CHARENTON LE PONT\"}                                                                  19\n",
       "{\"translation missing: en.occupancy.taxes.jurisdiction.names.FR_\",\" AUBERVILLIERS\"}                                                                      17\n",
       "{\"translation missing: en.occupancy.taxes.jurisdiction.names.FR_\",\" LE KREMLIN BICETRE\"}                                                                 11\n",
       "{\"translation missing: en.occupancy.taxes.jurisdiction.names.FR_\",\" VANVES\"}                                                                             10\n",
       "{\"translation missing: en.occupancy.taxes.jurisdiction.names.FR_\",\" SURESNES\"}                                                                           10\n",
       "{\"translation missing: en.occupancy.taxes.jurisdiction.names.FR_\",\" MONTREUIL\"}                                                                           8\n",
       "{\"translation missing: en.occupancy.taxes.jurisdiction.names.FR_\",\" SAINT MAURICE\"}                                                                       8\n",
       "{Paris}                                                                                                                                                   6\n",
       "{\"translation missing: en.occupancy.taxes.jurisdiction.names.FR_\",\" NOGENT SUR MARNE\"}                                                                    4\n",
       "{\"translation missing: en.occupancy.taxes.jurisdiction.names.FR_\",\" FONTENAY SOUS BOIS\"}                                                                  4\n",
       "{\"translation missing: en.occupancy.taxes.jurisdiction.names.FR_\",\" DEUIL LA BARRE\"}                                                                      3\n",
       "{\"translation missing: en.occupancy.taxes.jurisdiction.names.FR_\",\" PUTEAUX\"}                                                                             2\n",
       "{\"translation missing: en.occupancy.taxes.jurisdiction.names.FR_\",\" translation missing: en.occupancy.taxes.jurisdiction.names.FR_\",\" BRAS PANON\"}        2\n",
       "{\"translation missing: en.occupancy.taxes.jurisdiction.names.FR_\",\" SOULAC SUR MER\"}                                                                      2\n",
       "{\"translation missing: en.occupancy.taxes.jurisdiction.names.FR_\",\" ROCHECHOUART\"}                                                                        1\n",
       "{\"translation missing: en.occupancy.taxes.jurisdiction.names.FR_\",\" CHAMONIX MONT BLANC\"}                                                                 1\n",
       "{\"translation missing: en.occupancy.taxes.jurisdiction.names.FR_\",\" COLMAR\"}                                                                              1\n",
       "{\"translation missing: en.occupancy.taxes.jurisdiction.names.FR_\",\" SAINT JEAN LE BLANC\"}                                                                 1\n",
       "{\"translation missing: en.occupancy.taxes.jurisdiction.names.FR_\",\" PARIS LHOPITAL\"}                                                                      1\n",
       "{\"translation missing: en.occupancy.taxes.jurisdiction.names.FR_\",\" VILLEJUIF\"}                                                                           1\n",
       "Name: jurisdiction_names, dtype: int64"
      ]
     },
     "execution_count": 12,
     "metadata": {},
     "output_type": "execute_result"
    }
   ],
   "source": [
    "df_lst_reduced_notxt_currok_dummies.jurisdiction_names.value_counts()"
   ]
  },
  {
   "cell_type": "markdown",
   "metadata": {},
   "source": [
    "All well considered, after transformation 98% of the dataset will have _'Paris'_ as value. The 2nd value will be something like _'None'_ (767 rows) so it will not help us. **In the end I choose to drop this feature.**"
   ]
  },
  {
   "cell_type": "code",
   "execution_count": 13,
   "metadata": {},
   "outputs": [
    {
     "name": "stdout",
     "output_type": "stream",
     "text": [
      "After column dropping, new shape is now (64293, 72)\n"
     ]
    }
   ],
   "source": [
    "df_lst_reduced_notxt_currok_dummies = cleaning.drop_cols(df_lst_reduced_notxt_currok_dummies, ['jurisdiction_names'])"
   ]
  },
  {
   "cell_type": "markdown",
   "metadata": {},
   "source": [
    "## 2.6 Last but not least, 'amenities' management\n",
    "For this feature we will extract useful information and depending on the number of distinct values, perform 1-hot encoding over the values"
   ]
  },
  {
   "cell_type": "code",
   "execution_count": 14,
   "metadata": {},
   "outputs": [
    {
     "data": {
      "text/plain": [
       "{}                                                                                                                                                                                 181\n",
       "{TV,\"Cable TV\",Wifi,Kitchen,Heating,\"Family/kid friendly\",Washer,\"Smoke detector\",Hangers,\"Hair dryer\",Iron,\"Laptop friendly workspace\"}                                            52\n",
       "{TV,Wifi,Kitchen,Heating,Washer,\"Smoke detector\",Essentials,Shampoo,Hangers,\"Hair dryer\",Iron,\"Laptop friendly workspace\",\"Private entrance\",\"Hot water\",\"Bed linens\"}              34\n",
       "{Internet,Wifi,Kitchen,Heating,Essentials}                                                                                                                                          31\n",
       "{TV,Wifi,Kitchen,Elevator,Heating,Washer,\"Smoke detector\",Essentials,Hangers,\"Hair dryer\",Iron,\"Laptop friendly workspace\"}                                                         28\n",
       "{Internet,Wifi,Kitchen,Heating,Washer,Essentials}                                                                                                                                   28\n",
       "{TV,Wifi,Kitchen,Heating,Washer,\"Smoke detector\",Essentials,Shampoo,Hangers,\"Hair dryer\",Iron}                                                                                      27\n",
       "{TV,Wifi,Kitchen,Heating,Washer,\"Smoke detector\",Essentials,\"Hair dryer\",Iron}                                                                                                      26\n",
       "{TV,Internet,Wifi,Kitchen,Heating,Washer,Essentials}                                                                                                                                23\n",
       "{Wifi,Kitchen,Heating,\"Smoke detector\",\"Carbon monoxide detector\",Essentials,Shampoo,Hangers,\"Laptop friendly workspace\",\"Hot water\",\"Bed linens\",\"Extra pillows and blankets\"}     22\n",
       "Name: amenities, dtype: int64"
      ]
     },
     "execution_count": 14,
     "metadata": {},
     "output_type": "execute_result"
    }
   ],
   "source": [
    "df_lst_reduced_notxt_currok_dummies.amenities.value_counts()[:10]"
   ]
  },
  {
   "cell_type": "code",
   "execution_count": 15,
   "metadata": {},
   "outputs": [
    {
     "data": {
      "text/plain": [
       "0"
      ]
     },
     "execution_count": 15,
     "metadata": {},
     "output_type": "execute_result"
    }
   ],
   "source": [
    "df_lst_reduced_notxt_currok_dummies.amenities.isna().sum()"
   ]
  },
  {
   "cell_type": "markdown",
   "metadata": {},
   "source": [
    "Good point is that **there is no missing value** (actually they are _replaced_ with '{}'). Now I will remove the leading '{' and '}' characters. And remove also the '\"' punctuation.  \n",
    "I will then handle the multiple values transformation to dummies with this [helpful link from stackoverflow](https://stackoverflow.com/questions/18889588/create-dummies-from-column-with-multiple-values-in-pandas)."
   ]
  },
  {
   "cell_type": "code",
   "execution_count": 16,
   "metadata": {},
   "outputs": [],
   "source": [
    "df_lst_reduced_notxt_currok_dummies.amenities = df_lst_reduced_notxt_currok_dummies.amenities.str.strip('{}')\n",
    "df_lst_reduced_notxt_currok_dummies.amenities = df_lst_reduced_notxt_currok_dummies.amenities.str.replace('\"', '')"
   ]
  },
  {
   "cell_type": "code",
   "execution_count": 22,
   "metadata": {},
   "outputs": [],
   "source": [
    "df_only_amenities = df_lst_reduced_notxt_currok_dummies.amenities\n",
    "df_only_amenities = df_only_amenities.str.get_dummies(sep=',')"
   ]
  },
  {
   "cell_type": "code",
   "execution_count": 23,
   "metadata": {},
   "outputs": [
    {
     "data": {
      "text/html": [
       "<div>\n",
       "<style scoped>\n",
       "    .dataframe tbody tr th:only-of-type {\n",
       "        vertical-align: middle;\n",
       "    }\n",
       "\n",
       "    .dataframe tbody tr th {\n",
       "        vertical-align: top;\n",
       "    }\n",
       "\n",
       "    .dataframe thead th {\n",
       "        text-align: right;\n",
       "    }\n",
       "</style>\n",
       "<table border=\"1\" class=\"dataframe\">\n",
       "  <thead>\n",
       "    <tr style=\"text-align: right;\">\n",
       "      <th></th>\n",
       "      <th>toilet</th>\n",
       "      <th>24-hour check-in</th>\n",
       "      <th>Accessible-height bed</th>\n",
       "      <th>Accessible-height toilet</th>\n",
       "      <th>Air conditioning</th>\n",
       "      <th>Air purifier</th>\n",
       "      <th>Alfresco bathtub</th>\n",
       "      <th>Amazon Echo</th>\n",
       "      <th>BBQ grill</th>\n",
       "      <th>Baby bath</th>\n",
       "      <th>...</th>\n",
       "      <th>Wide doorway to guest bathroom</th>\n",
       "      <th>Wide entrance</th>\n",
       "      <th>Wide entrance for guests</th>\n",
       "      <th>Wide entryway</th>\n",
       "      <th>Wide hallways</th>\n",
       "      <th>Wifi</th>\n",
       "      <th>Window guards</th>\n",
       "      <th>Wine cooler</th>\n",
       "      <th>translation missing: en.hosting_amenity_49</th>\n",
       "      <th>translation missing: en.hosting_amenity_50</th>\n",
       "    </tr>\n",
       "  </thead>\n",
       "  <tbody>\n",
       "    <tr>\n",
       "      <th>0</th>\n",
       "      <td>0</td>\n",
       "      <td>0</td>\n",
       "      <td>0</td>\n",
       "      <td>0</td>\n",
       "      <td>0</td>\n",
       "      <td>0</td>\n",
       "      <td>0</td>\n",
       "      <td>0</td>\n",
       "      <td>0</td>\n",
       "      <td>0</td>\n",
       "      <td>...</td>\n",
       "      <td>0</td>\n",
       "      <td>0</td>\n",
       "      <td>0</td>\n",
       "      <td>0</td>\n",
       "      <td>0</td>\n",
       "      <td>1</td>\n",
       "      <td>0</td>\n",
       "      <td>0</td>\n",
       "      <td>0</td>\n",
       "      <td>0</td>\n",
       "    </tr>\n",
       "    <tr>\n",
       "      <th>1</th>\n",
       "      <td>0</td>\n",
       "      <td>0</td>\n",
       "      <td>0</td>\n",
       "      <td>0</td>\n",
       "      <td>0</td>\n",
       "      <td>0</td>\n",
       "      <td>0</td>\n",
       "      <td>0</td>\n",
       "      <td>0</td>\n",
       "      <td>0</td>\n",
       "      <td>...</td>\n",
       "      <td>0</td>\n",
       "      <td>0</td>\n",
       "      <td>0</td>\n",
       "      <td>0</td>\n",
       "      <td>0</td>\n",
       "      <td>1</td>\n",
       "      <td>0</td>\n",
       "      <td>0</td>\n",
       "      <td>0</td>\n",
       "      <td>0</td>\n",
       "    </tr>\n",
       "    <tr>\n",
       "      <th>2</th>\n",
       "      <td>0</td>\n",
       "      <td>1</td>\n",
       "      <td>0</td>\n",
       "      <td>0</td>\n",
       "      <td>0</td>\n",
       "      <td>0</td>\n",
       "      <td>0</td>\n",
       "      <td>0</td>\n",
       "      <td>0</td>\n",
       "      <td>0</td>\n",
       "      <td>...</td>\n",
       "      <td>0</td>\n",
       "      <td>0</td>\n",
       "      <td>0</td>\n",
       "      <td>0</td>\n",
       "      <td>0</td>\n",
       "      <td>1</td>\n",
       "      <td>0</td>\n",
       "      <td>0</td>\n",
       "      <td>0</td>\n",
       "      <td>0</td>\n",
       "    </tr>\n",
       "    <tr>\n",
       "      <th>3</th>\n",
       "      <td>0</td>\n",
       "      <td>0</td>\n",
       "      <td>0</td>\n",
       "      <td>0</td>\n",
       "      <td>0</td>\n",
       "      <td>0</td>\n",
       "      <td>0</td>\n",
       "      <td>0</td>\n",
       "      <td>0</td>\n",
       "      <td>0</td>\n",
       "      <td>...</td>\n",
       "      <td>0</td>\n",
       "      <td>0</td>\n",
       "      <td>0</td>\n",
       "      <td>0</td>\n",
       "      <td>0</td>\n",
       "      <td>1</td>\n",
       "      <td>0</td>\n",
       "      <td>0</td>\n",
       "      <td>0</td>\n",
       "      <td>0</td>\n",
       "    </tr>\n",
       "    <tr>\n",
       "      <th>4</th>\n",
       "      <td>0</td>\n",
       "      <td>0</td>\n",
       "      <td>0</td>\n",
       "      <td>0</td>\n",
       "      <td>0</td>\n",
       "      <td>0</td>\n",
       "      <td>0</td>\n",
       "      <td>0</td>\n",
       "      <td>0</td>\n",
       "      <td>0</td>\n",
       "      <td>...</td>\n",
       "      <td>0</td>\n",
       "      <td>0</td>\n",
       "      <td>0</td>\n",
       "      <td>0</td>\n",
       "      <td>0</td>\n",
       "      <td>1</td>\n",
       "      <td>0</td>\n",
       "      <td>0</td>\n",
       "      <td>0</td>\n",
       "      <td>0</td>\n",
       "    </tr>\n",
       "  </tbody>\n",
       "</table>\n",
       "<p>5 rows × 182 columns</p>\n",
       "</div>"
      ],
      "text/plain": [
       "    toilet  24-hour check-in  Accessible-height bed  Accessible-height toilet  \\\n",
       "0        0                 0                      0                         0   \n",
       "1        0                 0                      0                         0   \n",
       "2        0                 1                      0                         0   \n",
       "3        0                 0                      0                         0   \n",
       "4        0                 0                      0                         0   \n",
       "\n",
       "   Air conditioning  Air purifier  Alfresco bathtub  Amazon Echo  BBQ grill  \\\n",
       "0                 0             0                 0            0          0   \n",
       "1                 0             0                 0            0          0   \n",
       "2                 0             0                 0            0          0   \n",
       "3                 0             0                 0            0          0   \n",
       "4                 0             0                 0            0          0   \n",
       "\n",
       "   Baby bath  ...  Wide doorway to guest bathroom  Wide entrance  \\\n",
       "0          0  ...                               0              0   \n",
       "1          0  ...                               0              0   \n",
       "2          0  ...                               0              0   \n",
       "3          0  ...                               0              0   \n",
       "4          0  ...                               0              0   \n",
       "\n",
       "   Wide entrance for guests  Wide entryway  Wide hallways  Wifi  \\\n",
       "0                         0              0              0     1   \n",
       "1                         0              0              0     1   \n",
       "2                         0              0              0     1   \n",
       "3                         0              0              0     1   \n",
       "4                         0              0              0     1   \n",
       "\n",
       "   Window guards  Wine cooler  translation missing: en.hosting_amenity_49  \\\n",
       "0              0            0                                           0   \n",
       "1              0            0                                           0   \n",
       "2              0            0                                           0   \n",
       "3              0            0                                           0   \n",
       "4              0            0                                           0   \n",
       "\n",
       "   translation missing: en.hosting_amenity_50  \n",
       "0                                           0  \n",
       "1                                           0  \n",
       "2                                           0  \n",
       "3                                           0  \n",
       "4                                           0  \n",
       "\n",
       "[5 rows x 182 columns]"
      ]
     },
     "execution_count": 23,
     "metadata": {},
     "output_type": "execute_result"
    }
   ],
   "source": [
    "df_only_amenities.head()"
   ]
  },
  {
   "cell_type": "markdown",
   "metadata": {},
   "source": [
    "Wow 182 columns that's a lot !  \n",
    "**Notes:**\n",
    "* there are at least 2 translations missing, will it matter ?\n",
    "* in what has been transformed the empty initial amenities value '{}' ?"
   ]
  },
  {
   "cell_type": "code",
   "execution_count": 21,
   "metadata": {},
   "outputs": [
    {
     "name": "stdout",
     "output_type": "stream",
     "text": [
      "[' toilet', '24-hour check-in', 'Accessible-height bed', 'Accessible-height toilet', 'Air conditioning', 'Air purifier', 'Alfresco bathtub', 'Amazon Echo', 'BBQ grill', 'Baby bath', 'Baby monitor', 'Babysitter recommendations', 'Balcony', 'Bath towel', 'Bathroom essentials', 'Bathtub', 'Bathtub with bath chair', 'Beach essentials', 'Beach view', 'Beachfront', 'Bed linens', 'Bedroom comforts', 'Bidet', 'Body soap', 'Breakfast', 'Breakfast table', 'Building staff', 'Buzzer/wireless intercom', 'Cable TV', 'Carbon monoxide detector', 'Cat(s)', 'Ceiling fan', 'Ceiling hoist', 'Central air conditioning', 'Changing table', 'Children’s books and toys', 'Children’s dinnerware', 'Cleaning before checkout', 'Coffee maker', 'Convection oven', 'Cooking basics', 'Crib', 'DVD player', 'Day bed', 'Disabled parking spot', 'Dishes and silverware', 'Dishwasher', 'Dog(s)', 'Doorman', 'Double oven', 'Dryer', 'EV charger', 'Electric profiling bed', 'Elevator', 'En suite bathroom', 'Espresso machine', 'Essentials', 'Ethernet connection', 'Exercise equipment', 'Extra pillows and blankets', 'Extra space around bed', 'Family/kid friendly', 'Fire extinguisher', 'Fireplace guards', 'Firm mattress', 'First aid kit', 'Fixed grab bars for shower', 'Fixed grab bars for toilet', 'Flat path to guest entrance', 'Formal dining area', 'Free parking on premises', 'Free street parking', 'Full kitchen', 'Game console', 'Garden or backyard', 'Gas oven', 'Ground floor access', 'Gym', 'HBO GO', 'Hair dryer', 'Handheld shower head', 'Hangers', 'Heated floors', 'Heated towel rack', 'Heating', 'High chair', 'High-resolution computer monitor', 'Host greets you', 'Hot tub', 'Hot water', 'Hot water kettle', 'Indoor fireplace', 'Internet', 'Iron', 'Ironing Board', 'Jetted tub', 'Keypad', 'Kitchen', 'Kitchenette', 'Lake access', 'Laptop friendly workspace', 'Lock on bedroom door', 'Lockbox', 'Long term stays allowed', 'Luggage dropoff allowed', 'Memory foam mattress', 'Microwave', 'Mini fridge', 'Mobile hoist', 'Mudroom', 'Murphy bed', 'Netflix', 'No stairs or steps to enter', 'Other', 'Other pet(s)', 'Outdoor seating', 'Outlet covers', 'Oven', 'Pack ’n Play/travel crib', 'Paid parking off premises', 'Paid parking on premises', 'Patio or balcony', 'Pets allowed', 'Pets live on this property', 'Pillow-top mattress', 'Pocket wifi', 'Pool', 'Pool with pool hoist', 'Printer', 'Private entrance', 'Private gym', 'Private living room', 'Projector and screen', 'Rain shower', 'Refrigerator', 'Roll-in shower', 'Roll-in shower with chair', 'Room-darkening shades', 'Safety card', 'Sauna', 'Self check-in', 'Shampoo', 'Shower chair', 'Single level home', 'Ski-in/Ski-out', 'Smart TV', 'Smart lock', 'Smoke detector', 'Smoking allowed', 'Soaking tub', 'Sound system', 'Stair gates', 'Stand alone steam shower', 'Standing valet', 'Steam oven', 'Stove', 'Suitable for events', 'Sun loungers', 'TV', 'Table corner guards', 'Tennis court', 'Terrace', 'Toaster', 'Toilet paper', 'Walk-in shower', 'Warming drawer', 'Washer', 'Washer / Dryer', 'Waterfront', 'Well-lit path to entrance', 'Wheelchair accessible', 'Wide clearance to shower', 'Wide doorway to guest bathroom', 'Wide entrance', 'Wide entrance for guests', 'Wide entryway', 'Wide hallways', 'Wifi', 'Window guards', 'Wine cooler', 'translation missing: en.hosting_amenity_49', 'translation missing: en.hosting_amenity_50']"
     ]
    }
   ],
   "source": [
    "print(df_only_amenities.columns.tolist(), end='')"
   ]
  },
  {
   "cell_type": "markdown",
   "metadata": {},
   "source": [
    "As 182 new columns is a lot, I will check if there are amenities with few occurrences."
   ]
  },
  {
   "cell_type": "code",
   "execution_count": 52,
   "metadata": {},
   "outputs": [
    {
     "data": {
      "image/png": "[encoded data removed]",
      "text/plain": [
       "<Figure size 1080x360 with 1 Axes>"
      ]
     },
     "metadata": {
      "needs_background": "light"
     },
     "output_type": "display_data"
    }
   ],
   "source": [
    "df_amen_sum = viz.plot_amenities_nb_features_and_tresholds(df_only_amenities)"
   ]
  },
  {
   "cell_type": "markdown",
   "metadata": {},
   "source": [
    "Here we are not choosing the number of clusters with 'elbow' method but the approach is similar: ***we are looking for a specific value (threshold) that would reduce our number of new amenities features in a smart way***. For that we count the number of listings containing each amenity and we plot the number of features that would be kept if the treshold were this or this value.  \n",
    "For instance, here we can see that **with a treshold of 642 we keep around 80 features, that's almost 100 less !**  \n",
    "Note that 642 in this case represents 1% of the total number of listings so it's not bad at all: dropping the more or less 100 hundred features would impact less than 1% of the listings. The more we increase the treshold value the less we 'gain' in feature dropping (it is around 70 features for 2%). Let's keep the 1%."
   ]
  },
  {
   "cell_type": "code",
   "execution_count": 57,
   "metadata": {},
   "outputs": [
    {
     "data": {
      "text/html": [
       "<div>\n",
       "<style scoped>\n",
       "    .dataframe tbody tr th:only-of-type {\n",
       "        vertical-align: middle;\n",
       "    }\n",
       "\n",
       "    .dataframe tbody tr th {\n",
       "        vertical-align: top;\n",
       "    }\n",
       "\n",
       "    .dataframe thead th {\n",
       "        text-align: right;\n",
       "    }\n",
       "</style>\n",
       "<table border=\"1\" class=\"dataframe\">\n",
       "  <thead>\n",
       "    <tr style=\"text-align: right;\">\n",
       "      <th></th>\n",
       "      <th>amen_sum</th>\n",
       "    </tr>\n",
       "  </thead>\n",
       "  <tbody>\n",
       "    <tr>\n",
       "      <th>toilet</th>\n",
       "      <td>346</td>\n",
       "    </tr>\n",
       "    <tr>\n",
       "      <th>Accessible-height bed</th>\n",
       "      <td>257</td>\n",
       "    </tr>\n",
       "    <tr>\n",
       "      <th>Accessible-height toilet</th>\n",
       "      <td>221</td>\n",
       "    </tr>\n",
       "    <tr>\n",
       "      <th>Air purifier</th>\n",
       "      <td>3</td>\n",
       "    </tr>\n",
       "    <tr>\n",
       "      <th>Alfresco bathtub</th>\n",
       "      <td>1</td>\n",
       "    </tr>\n",
       "    <tr>\n",
       "      <th>Amazon Echo</th>\n",
       "      <td>3</td>\n",
       "    </tr>\n",
       "    <tr>\n",
       "      <th>BBQ grill</th>\n",
       "      <td>225</td>\n",
       "    </tr>\n",
       "  </tbody>\n",
       "</table>\n",
       "</div>"
      ],
      "text/plain": [
       "                          amen_sum\n",
       " toilet                        346\n",
       "Accessible-height bed          257\n",
       "Accessible-height toilet       221\n",
       "Air purifier                     3\n",
       "Alfresco bathtub                 1\n",
       "Amazon Echo                      3\n",
       "BBQ grill                      225"
      ]
     },
     "execution_count": 57,
     "metadata": {},
     "output_type": "execute_result"
    }
   ],
   "source": [
    "# Let's see what it looks like\n",
    "df_amen_sum[df_amen_sum['amen_sum'] < 642].head(7)"
   ]
  },
  {
   "cell_type": "code",
   "execution_count": 62,
   "metadata": {},
   "outputs": [
    {
     "name": "stdout",
     "output_type": "stream",
     "text": [
      "After column dropping, new shape is now (64293, 84)\n"
     ]
    }
   ],
   "source": [
    "df_only_amenities_reduced = cleaning.drop_cols(df_only_amenities, df_amen_sum[df_amen_sum['amen_sum'] < 642].index.tolist())"
   ]
  },
  {
   "cell_type": "code",
   "execution_count": 64,
   "metadata": {},
   "outputs": [
    {
     "name": "stdout",
     "output_type": "stream",
     "text": [
      "After column dropping, new shape is now (64293, 155)\n"
     ]
    }
   ],
   "source": [
    "# We're almost there, just concat and drop the original 'amenities' column\n",
    "df_almost_clean = pd.concat([df_lst_reduced_notxt_currok_dummies, df_only_amenities_reduced], axis=1)\n",
    "assert df_almost_clean.shape[1] == df_lst_reduced_notxt_currok_dummies.shape[1] + df_only_amenities_reduced.shape[1]\n",
    "assert df_almost_clean.shape[0] == df_lst_reduced_notxt_currok_dummies.shape[0]\n",
    "df_almost_clean = cleaning.drop_cols(df_almost_clean, ['amenities'])"
   ]
  },
  {
   "cell_type": "markdown",
   "metadata": {},
   "source": [
    "## 2.7. So now we can handle rows with missing values"
   ]
  },
  {
   "cell_type": "code",
   "execution_count": 68,
   "metadata": {},
   "outputs": [
    {
     "data": {
      "text/plain": [
       "41055    13\n",
       "41054    13\n",
       "6577     13\n",
       "14742    12\n",
       "11931    12\n",
       "         ..\n",
       "48809     0\n",
       "48810     0\n",
       "48811     0\n",
       "27823     0\n",
       "0         0\n",
       "Length: 64293, dtype: int64"
      ]
     },
     "execution_count": 68,
     "metadata": {},
     "output_type": "execute_result"
    }
   ],
   "source": [
    "df_almost_clean.isna().sum(axis=1).sort_values(ascending=False)"
   ]
  },
  {
   "cell_type": "code",
   "execution_count": 71,
   "metadata": {},
   "outputs": [
    {
     "data": {
      "text/plain": [
       "security_deposit               19852\n",
       "cleaning_fee                   17191\n",
       "review_scores_checkin          15831\n",
       "review_scores_value            15830\n",
       "review_scores_location         15829\n",
       "                               ...  \n",
       "Free parking on premises           0\n",
       "Flat path to guest entrance        0\n",
       "First aid kit                      0\n",
       "Fire extinguisher                  0\n",
       "id                                 0\n",
       "Length: 155, dtype: int64"
      ]
     },
     "execution_count": 71,
     "metadata": {},
     "output_type": "execute_result"
    }
   ],
   "source": [
    "df_almost_clean.isna().sum().sort_values(ascending=False)"
   ]
  },
  {
   "cell_type": "code",
   "execution_count": 74,
   "metadata": {},
   "outputs": [
    {
     "data": {
      "text/plain": [
       "id                                            False\n",
       "host_is_superhost                              True\n",
       "host_identity_verified                         True\n",
       "is_location_exact                             False\n",
       "accommodates                                  False\n",
       "                                              ...  \n",
       "Wide entryway                                 False\n",
       "Wide hallways                                 False\n",
       "Wifi                                          False\n",
       "translation missing: en.hosting_amenity_49    False\n",
       "translation missing: en.hosting_amenity_50    False\n",
       "Length: 155, dtype: bool"
      ]
     },
     "execution_count": 74,
     "metadata": {},
     "output_type": "execute_result"
    }
   ],
   "source": [
    "df_almost_clean.isna().any()"
   ]
  },
  {
   "cell_type": "code",
   "execution_count": null,
   "metadata": {},
   "outputs": [],
   "source": []
  }
 ],
 "metadata": {
  "kernelspec": {
   "display_name": "Python [conda env:udadsnd-p4] *",
   "language": "python",
   "name": "conda-env-udadsnd-p4-py"
  },
  "language_info": {
   "codemirror_mode": {
    "name": "ipython",
    "version": 3
   },
   "file_extension": ".py",
   "mimetype": "text/x-python",
   "name": "python",
   "nbconvert_exporter": "python",
   "pygments_lexer": "ipython3",
   "version": "3.7.3"
  }
 },
 "nbformat": 4,
 "nbformat_minor": 2
}
